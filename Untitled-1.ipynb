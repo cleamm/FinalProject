{
 "cells": [
  {
   "cell_type": "markdown",
   "metadata": {},
   "source": [
    "https://velog.io/@nawnoes/%EB%82%98%EB%A7%8C%EC%9D%98-%EC%96%B8%EC%96%B4%EB%AA%A8%EB%8D%B8-%EB%A7%8C%EB%93%A4%EA%B8%B0-GPT-2-Autoregressive-Language-Model-%EB%A7%8C%EB%93%A4%EA%B8%B0"
   ]
  },
  {
   "cell_type": "markdown",
   "metadata": {},
   "source": [
    "https://velog.io/@latte_2023/AI-02.-CLIP-Transformer-%EA%B8%B0%EB%B0%98-%EC%9D%B4%EB%AF%B8%EC%A7%80-%EC%BA%A1%EC%85%94%EB%8B%9D\n",
    "https://mvcv.tistory.com/20"
   ]
  },
  {
   "cell_type": "markdown",
   "metadata": {},
   "source": [
    "https://velog.io/@raqoon886/KorBertSum-SummaryBot"
   ]
  },
  {
   "cell_type": "markdown",
   "metadata": {},
   "source": [
    "https://chatgpt.com/c/5f8ff7d8-6fe1-470e-a1f2-7b0c0c932ce1"
   ]
  },
  {
   "cell_type": "markdown",
   "metadata": {},
   "source": [
    "https://github.com/LeeSinLiang/microGPT\n",
    "\n",
    "https://github.com/benisalla/micro-tiny-gpt-from-scratch\n",
    "\n"
   ]
  },
  {
   "cell_type": "code",
   "execution_count": 1,
   "metadata": {},
   "outputs": [
    {
     "name": "stdout",
     "output_type": "stream",
     "text": [
      "말하세요...\n",
      "인식된 텍스트: 아 아 마이크 테스트\n"
     ]
    }
   ],
   "source": [
    "# https://wikidocs.net/234593\n",
    "import speech_recognition as sr\n",
    "\n",
    "# 음성 인식 객체 생성\n",
    "recognizer = sr.Recognizer()\n",
    "\n",
    "# 마이크에서 입력받기\n",
    "with sr.Microphone() as source:\n",
    "    print(\"말하세요...\")\n",
    "    audio = recognizer.listen(source)\n",
    "\n",
    "# Google Web Speech API를 사용하여 음성 인식\n",
    "try:\n",
    "    print(\"인식된 텍스트: \" + recognizer.recognize_google(audio, language='ko-KR'))\n",
    "except sr.UnknownValueError:\n",
    "    print(\"Google Web Speech API가 당신의 말을 이해하지 못했습니다.\")\n",
    "except sr.RequestError as e:\n",
    "    print(f\"Google Web Speech API 서비스에 문제가 발생했습니다; {e}\")\n"
   ]
  }
 ],
 "metadata": {
  "kernelspec": {
   "display_name": "Python 3",
   "language": "python",
   "name": "python3"
  },
  "language_info": {
   "codemirror_mode": {
    "name": "ipython",
    "version": 3
   },
   "file_extension": ".py",
   "mimetype": "text/x-python",
   "name": "python",
   "nbconvert_exporter": "python",
   "pygments_lexer": "ipython3",
   "version": "3.10.9"
  }
 },
 "nbformat": 4,
 "nbformat_minor": 2
}
