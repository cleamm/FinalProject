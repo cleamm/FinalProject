{
 "cells": [
  {
   "cell_type": "code",
   "execution_count": 43,
   "metadata": {},
   "outputs": [],
   "source": [
    "# import requests 시리즈온은 안됨\n",
    "from bs4 import BeautifulSoup\n",
    "import pandas as pd\n",
    "import re\n",
    "import numpy as np\n",
    "from tqdm import tqdm\n",
    "from selenium import webdriver\n",
    "import time\n",
    "movies = pd.read_csv('../movies_not_19.csv')\n",
    "names = movies.영화명.tolist()\n",
    "movie_list = []"
   ]
  },
  {
   "cell_type": "code",
   "execution_count": 38,
   "metadata": {},
   "outputs": [],
   "source": [
    "# names = names[:5]\n",
    "names = ['부활의 노래', '이매큘레이트', '러브 라이즈 블리딩', '짱', '싸움의 기술 2']"
   ]
  },
  {
   "cell_type": "code",
   "execution_count": 6,
   "metadata": {},
   "outputs": [
    {
     "data": {
      "text/plain": [
       "['부활의 노래', '이매큘레이트', '러브 라이즈 블리딩', '짱', '싸움의 기술 2']"
      ]
     },
     "execution_count": 6,
     "metadata": {},
     "output_type": "execute_result"
    }
   ],
   "source": [
    "names"
   ]
  },
  {
   "cell_type": "code",
   "execution_count": 29,
   "metadata": {},
   "outputs": [],
   "source": [
    "wd = webdriver.Chrome()"
   ]
  },
  {
   "cell_type": "code",
   "execution_count": null,
   "metadata": {},
   "outputs": [],
   "source": []
  },
  {
   "cell_type": "code",
   "execution_count": 52,
   "metadata": {},
   "outputs": [
    {
     "name": "stderr",
     "output_type": "stream",
     "text": [
      "100%|██████████| 13254/13254 [8:39:38<00:00,  2.35s/it]  \n"
     ]
    }
   ],
   "source": [
    "for i in tqdm(names[52:]):\n",
    "    try:\n",
    "        url = f\"https://serieson.naver.com/v3/search?query={i}\"\n",
    "        wd.get(url)\n",
    "        time.sleep(int(1))\n",
    "        html = wd.page_source\n",
    "        soup = BeautifulSoup(html, 'html.parser')\n",
    "        movie_url = 'https://serieson.naver.com'\n",
    "        url1 = ''\n",
    "        for i in soup.select('ul li a'):\n",
    "            if re.search('/v2/movie/[0-9]+', i.attrs['href']):\n",
    "                url1 = i.attrs['href']\n",
    "                break\n",
    "        wd.get(movie_url + url1)\n",
    "        movie_html = wd.page_source\n",
    "\n",
    "        soup = BeautifulSoup(movie_html, 'html.parser')\n",
    "        title = soup.select('#content > div.end_contents_info > div > div.title_area > div.title > strong')[0].text\n",
    "        score = soup.select('#content > div.end_contents_info > div > div.title_area > div.info span')[0].text\n",
    "        year = soup.select('#content > div.end_contents_info > div > div.title_area > div.info span')[1].text\n",
    "        movie_time = soup.select('#content > div.end_contents_info > div > div.title_area > div.info span')[2].text\n",
    "        age = soup.select('#content > div.end_contents_info > div > div.title_area > div.info span')[3].text\n",
    "        director = soup.select('#content > div.end_contents_info > ul li div')[0].text\n",
    "        actor = soup.select('#content > div.end_contents_info > ul li div')[2].text\n",
    "        synopsis = soup.select('#content > div.end_contents_info > ul li div')[4].text\n",
    "        movie_list.append([title, score, year, movie_time, age, director, actor, synopsis])\n",
    "    except:\n",
    "        pass"
   ]
  },
  {
   "cell_type": "code",
   "execution_count": 53,
   "metadata": {},
   "outputs": [
    {
     "data": {
      "text/plain": [
       "12396"
      ]
     },
     "execution_count": 53,
     "metadata": {},
     "output_type": "execute_result"
    }
   ],
   "source": [
    "len(movie_list)"
   ]
  },
  {
   "cell_type": "code",
   "execution_count": 54,
   "metadata": {},
   "outputs": [],
   "source": [
    "import pickle\n",
    "with open('movie_list.pkl', 'wb') as f:\n",
    "    pickle.dump(movie_list, f)"
   ]
  },
  {
   "cell_type": "code",
   "execution_count": 1,
   "metadata": {},
   "outputs": [],
   "source": [
    "import pickle\n",
    "with open('movie_list.pkl', 'rb') as f:\n",
    "    d = pickle.load(f)"
   ]
  },
  {
   "cell_type": "code",
   "execution_count": 2,
   "metadata": {},
   "outputs": [
    {
     "data": {
      "text/plain": [
       "12396"
      ]
     },
     "execution_count": 2,
     "metadata": {},
     "output_type": "execute_result"
    }
   ],
   "source": [
    "len(d)"
   ]
  },
  {
   "cell_type": "code",
   "execution_count": 37,
   "metadata": {},
   "outputs": [],
   "source": [
    "movie_names = []\n",
    "for i in d:\n",
    "    movie_names.append(i[0])"
   ]
  },
  {
   "cell_type": "code",
   "execution_count": 38,
   "metadata": {},
   "outputs": [
    {
     "name": "stdout",
     "output_type": "stream",
     "text": [
      "6044\n"
     ]
    },
    {
     "data": {
      "text/plain": [
       "['러브 라이즈 블리딩', 'TAR 타르', 'LA 대지진', '배틀쉽', '엑소시스트: 사탄의 부활']"
      ]
     },
     "execution_count": 38,
     "metadata": {},
     "output_type": "execute_result"
    }
   ],
   "source": [
    "movie_names = list(set(movie_names))\n",
    "print(len(movie_names))\n",
    "movie_names[:5]"
   ]
  },
  {
   "cell_type": "code",
   "execution_count": 39,
   "metadata": {},
   "outputs": [],
   "source": [
    "movies = []\n",
    "for i in movie_names:\n",
    "    for name in d:\n",
    "        if i == name[0]:\n",
    "            movies.append(name)\n",
    "            break"
   ]
  },
  {
   "cell_type": "code",
   "execution_count": 40,
   "metadata": {},
   "outputs": [
    {
     "data": {
      "text/plain": [
       "6044"
      ]
     },
     "execution_count": 40,
     "metadata": {},
     "output_type": "execute_result"
    }
   ],
   "source": [
    "len(movies)"
   ]
  },
  {
   "cell_type": "code",
   "execution_count": 50,
   "metadata": {},
   "outputs": [
    {
     "data": {
      "text/plain": [
       "<re.Match object; span=(0, 2), match='출연'>"
      ]
     },
     "execution_count": 50,
     "metadata": {},
     "output_type": "execute_result"
    }
   ],
   "source": [
    "import re\n",
    "re.match('출연', '출연작')"
   ]
  },
  {
   "cell_type": "code",
   "execution_count": 55,
   "metadata": {},
   "outputs": [
    {
     "data": {
      "text/plain": [
       "<re.Match object; span=(0, 2), match='출연'>"
      ]
     },
     "execution_count": 55,
     "metadata": {},
     "output_type": "execute_result"
    }
   ],
   "source": [
    "re.match('출연', movies[5][6])"
   ]
  },
  {
   "cell_type": "code",
   "execution_count": null,
   "metadata": {},
   "outputs": [],
   "source": [
    "['사무라이-검신 주베에', '8', '87분', '15세 관람가', 'DRM', '감독이시하라 시게루', '소개에도 시대 초기, 백년에 걸친 전국시대를 평정한 도쿠가와, 하지만 아직도 천하 통일의 꿈을 꾸는 다이묘들에 의해 마침 평화의 시대에 존재의 이유를 찾지 못하던 닌자들의 암약이 이루어지는데.이러한 움직임을 알게 된 장군 명에 의해 검신으로 일컬어지는 야규 쥬베에는 음모를 파해치기 위해 여행을 떠난다.', '구매이용기간 제한 없음이용기기 PC, 모바일, TV 총 5대제공화질 최대 1080(FHD),3.33GBDRM (저작권 보호장치 적용)']\n",
    "['침묵의 시선', '9.03', '2015', '103분', '15세 관람가', '감독조슈아 오펜하이머', '소개1965년 인도네시아 군부정권 대학살의 기억을 가진 모든 이들에게 ‘람리’라는 이름은 곧 학살을 의미했다. 그는 비밀리에 사라졌던 100만 명의 사람 중 유일하게 목격당한 죽음이었기 때문이다. 알고도 모른척 숨죽여 살아야 했던 사람들에게 ‘람리’의 또 다른 이름은 침묵이자 망각. 그러나 그의 동생 ‘아디’는 50년 만에 형을 죽인 살인자를 찾아가 그 때의 이야기를 묻기 시작하고, 가해자들은 누구보다 자랑스럽고 당당하게 자신이 저지른 소름 끼치는 살인을 증언한다. ‘죽음’은 있지만 ‘책임’은 없는, 인류 역사상 가장 고요하고 잔혹한 이야기!', '구매이용기간 제한 없음이용기기 PC, 모바일, TV 총 5대제공화질 최대 720(HD),2.35GBDRM (저작권 보호장치 적용)']\n",
    "['소림사: 전설의 고수', '4', '2018', '108분', '15세 관람가', '감독도효', '소개서역으로 가던 소림사 승려들이 불의의 무리들과 맞서 싸우는 내용의 무협 영화', '구매이용기간 제한 없음이용기기 PC, 모바일, TV 총 5대제공화질 최대 1080(FHD),4.12GBDRM (저작권 보호장치 적용)']\n",
    "['인디애니박스: 셀마의 단백질 커피', '8.38', '2008', '75분', '12세 관람가', '감독김운기,연상호,장형윤', \"소개 세 감독의 <원티드>, <사랑은 단백질>, <무림일검의 사생활> 3편의 묶어 개봉하는 작품.원티드(WANTED). 공개수배, 셀마를 아시나요? 평화로운 마을에 검은 베일의 수상한 노파가 나타나자 느닷없이 큰 비가 쏟아진다. 다음날 도 같은 현상이 반복되고, 마을주민들은 뒤늦게 찾아온 경관을 통해 그 노파가 공개수배자임을 전해 듣고, 점점 더 공포에 빠진다. 도대체 셀마는 누구일까?사랑은 단백질 (Love is Protein). 세상의 모든 치킨에겐 사연이 있다! 무료한 여름 밤. 자취생 재호, 경순, 홍찬은 돼지 저금통을 털어 치킨을 시킨다. 하지만 족발집의 돼지가 대신 배달을 오고, 그 돼지를 뒤늦게 따라온 닭사장은 배달된 치킨이 제 손으로 튀길 수 밖에 없었던 자기 아들 '닭돌이’라며 대성통곡한다. 그러나 세 친구는 후라이드된 닭돌이의 사연 앞에 각각 입장이 다르다.무림일검의 사생활 (A coffee Vending Machine & It's Sword). ‘커피자판기’라도 괜찮아! 무림제일검이라 불리던 검객 진영영은 강적과의 대결 끝에 죽고, 소원대로 강철로 환생한다. 무슨 곡절인지 차가운 강철의 커피자판기로 환생한 진영영은 가슴에서 따뜻한 커피를 만들어내는 사내가 되고, 술을 먹으면 동정심이 왕성해지는 소녀 혜미와 첫사랑에 빠진다. 먼저 지명수배자인 ‘셀마’를 통해 한국의 정치 상황을 풍자한 애니메이션 <원티드>는 미스터리 스릴러라는 장르를 앞세우며 예고편 초반부터 심상찮은 BGM으로 분위기를 압도한다. <원티드>는 이미 세계 유수의 영화제를 통해 그 작품성을 인정받은 바 있다. 이어지는 연상호 감독의 <사랑은 단백질>은 세 명의 자취생이 통닭을 시켜먹는 과정을 통해 웃기지만 시원하게 웃을 수 없는 씁쓸한 유머를 전한다. 극의 주인공 ‘재호’가 돼지 저금통의 배를 째 통닭 주문할 돈을 마련하는 코믹한 장면과 튀겨질 수 밖에 없었던 닭돌이의 사연을 고백하는 닭사장을 등장시켜 영화의 반전과 극적 재미의 궁금증을 증폭시킨다. 마지막으로 <무림일검의 사생활>은 장형윤 감독 특유의 말랑말랑한 감수성이 절정에 달한 작품으로, 마음을 울리는 아름다운 노래 선율과 함께 커피자판기로 환생한 무림 최고수 ‘진영영’과 혜미의 아기자기한 러브씬이 담겼다.\", '구매이용기간 제한 없음이용기기 PC, 모바일, TV 총 5대제공화질 최대 480(고화질),895MBDRM (저작권 보호장치 적용)']\n",
    "# 출연진이 없는 영화는 위와 같이 출력됨"
   ]
  },
  {
   "cell_type": "code",
   "execution_count": 57,
   "metadata": {},
   "outputs": [],
   "source": [
    "# 출연이 있는 영화만 가져옴\n",
    "filter_movies = []\n",
    "for m in movies:\n",
    "    if re.match('출연', m[6]):\n",
    "        filter_movies.append(m)\n",
    "    # else:\n",
    "    #     print(m)"
   ]
  },
  {
   "cell_type": "code",
   "execution_count": 58,
   "metadata": {},
   "outputs": [
    {
     "data": {
      "text/plain": [
       "5932"
      ]
     },
     "execution_count": 58,
     "metadata": {},
     "output_type": "execute_result"
    }
   ],
   "source": [
    "len(filter_movies)"
   ]
  },
  {
   "cell_type": "code",
   "execution_count": 62,
   "metadata": {},
   "outputs": [
    {
     "data": {
      "text/plain": [
       "'독케이스 샘플즈'"
      ]
     },
     "execution_count": 62,
     "metadata": {},
     "output_type": "execute_result"
    }
   ],
   "source": [
    "filter_movies[0][5][2:]"
   ]
  },
  {
   "cell_type": "code",
   "execution_count": 63,
   "metadata": {},
   "outputs": [],
   "source": [
    "# 감독, 출연이 있는 구간의 첫번째 단어 제거\n",
    "for i in range(len(filter_movies)):\n",
    "    if re.match('감독', filter_movies[i][5]):\n",
    "        filter_movies[i][5] = filter_movies[i][5][2:]\n",
    "    if re.match('출연', filter_movies[i][6]):\n",
    "        filter_movies[i][6] = filter_movies[i][6][2:]"
   ]
  },
  {
   "cell_type": "code",
   "execution_count": 64,
   "metadata": {},
   "outputs": [
    {
     "data": {
      "text/plain": [
       "['러브 라이즈 블리딩',\n",
       " '6.83',\n",
       " '93분',\n",
       " '청소년 관람불가',\n",
       " 'DRM',\n",
       " '케이스 샘플즈',\n",
       " '브라이언 게라그티, 제나 드완, 크리스찬 슬레이터',\n",
       " '소개듀크와 앰버는 멕시칸 갱들의 괴롭힘과 희망없는 현실 속에서 서로에 대한 사랑만으로 겨우 버티며 살아가고 있다. 그러나 더이상 갱들의 행포를 참지 못한 듀크는 총을 구해서 갱들의 아지트로 간다. 그가 그 곳에서 본 것은 총격후의 쓰러져 있는 사람들과 돈가방... (mrsleep@naver.com)']"
      ]
     },
     "execution_count": 64,
     "metadata": {},
     "output_type": "execute_result"
    }
   ],
   "source": [
    "filter_movies[0]"
   ]
  },
  {
   "cell_type": "code",
   "execution_count": 69,
   "metadata": {},
   "outputs": [
    {
     "data": {
      "text/plain": [
       "['TAR 타르',\n",
       " '7.83',\n",
       " '2023',\n",
       " '158분',\n",
       " '15세 관람가',\n",
       " '토드 필드',\n",
       " '케이트 블란쳇, 노에미 메를랑, 니나 호스',\n",
       " '소개무대를 장악하는 마에스트로, 욕망을 불태우는 괴물,베를린 필하모닉 최초의 여성 지휘자 리디아 타르. 이 이야기는 그녀의 정점에서 시작된다.']"
      ]
     },
     "execution_count": 69,
     "metadata": {},
     "output_type": "execute_result"
    }
   ],
   "source": [
    "filter_movies[1]"
   ]
  },
  {
   "cell_type": "code",
   "execution_count": 75,
   "metadata": {},
   "outputs": [],
   "source": [
    "movies = []\n",
    "for i in filter_movies:\n",
    "    if 'DRM' not in i:\n",
    "        movies.append(i)"
   ]
  },
  {
   "cell_type": "code",
   "execution_count": 77,
   "metadata": {},
   "outputs": [
    {
     "name": "stdout",
     "output_type": "stream",
     "text": [
      "5449\n"
     ]
    },
    {
     "data": {
      "text/plain": [
       "['TAR 타르',\n",
       " '7.83',\n",
       " '2023',\n",
       " '158분',\n",
       " '15세 관람가',\n",
       " '토드 필드',\n",
       " '케이트 블란쳇, 노에미 메를랑, 니나 호스',\n",
       " '소개무대를 장악하는 마에스트로, 욕망을 불태우는 괴물,베를린 필하모닉 최초의 여성 지휘자 리디아 타르. 이 이야기는 그녀의 정점에서 시작된다.']"
      ]
     },
     "execution_count": 77,
     "metadata": {},
     "output_type": "execute_result"
    }
   ],
   "source": [
    "print(len(movies))\n",
    "movies[0]"
   ]
  },
  {
   "cell_type": "code",
   "execution_count": 78,
   "metadata": {},
   "outputs": [],
   "source": [
    "import pickle\n",
    "with open('naver_serieson.pkl', 'wb') as f:\n",
    "    pickle.dump(movies, f)"
   ]
  },
  {
   "cell_type": "code",
   "execution_count": null,
   "metadata": {},
   "outputs": [],
   "source": []
  },
  {
   "cell_type": "code",
   "execution_count": null,
   "metadata": {},
   "outputs": [],
   "source": []
  },
  {
   "cell_type": "code",
   "execution_count": 21,
   "metadata": {},
   "outputs": [],
   "source": []
  },
  {
   "cell_type": "code",
   "execution_count": 84,
   "metadata": {},
   "outputs": [
    {
     "name": "stdout",
     "output_type": "stream",
     "text": [
      "9.31 2021 103분 전체 관람가\n"
     ]
    }
   ],
   "source": [
    "print(score, year, time, age)"
   ]
  },
  {
   "cell_type": "code",
   "execution_count": 94,
   "metadata": {},
   "outputs": [
    {
     "name": "stdout",
     "output_type": "stream",
     "text": [
      "감독쿄고쿠 타카히코 출연박영남, 김환진, 강희선, 여민정, 정유미, 정혜옥, 강새봄, 시영준 소개아이들의 낙서가 사라져 붕괴 위기에 처한 낙서왕국은낙서 에너지를 모으기 위해 지구 침공을 시작한다.낙서왕국의 위험한 작전을 막기 위해지상의 용사로 선택 받은 짱구는그림에 생명을 불어넣는 ‘미라클 크레용’을 얻게 된다.쓰윽 쓰윽~ 그려 그려~!짱구가 미라클 크레용으로 그림을 그리자브리프, 가짜 이슬이 누나, 부리부리 용사가스케치북 밖으로 튀어나오는데..!과연, 크레용 용사 짱구는 낙서 용사들과 함께위험에 빠진 떡잎마을과 세계를 구할 수 있을까?!\n"
     ]
    }
   ],
   "source": [
    "print(director, actor, synopsis)"
   ]
  }
 ],
 "metadata": {
  "kernelspec": {
   "display_name": "Python 3",
   "language": "python",
   "name": "python3"
  },
  "language_info": {
   "codemirror_mode": {
    "name": "ipython",
    "version": 3
   },
   "file_extension": ".py",
   "mimetype": "text/x-python",
   "name": "python",
   "nbconvert_exporter": "python",
   "pygments_lexer": "ipython3",
   "version": "3.10.9"
  }
 },
 "nbformat": 4,
 "nbformat_minor": 2
}
