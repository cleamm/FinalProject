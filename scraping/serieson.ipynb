{
 "cells": [
  {
   "cell_type": "code",
   "execution_count": 85,
   "metadata": {},
   "outputs": [],
   "source": [
    "import requests # 시리즈온은 안됨\n",
    "from bs4 import BeautifulSoup\n",
    "import pandas as pd\n",
    "import re\n",
    "import numpy as np\n",
    "from tqdm import tqdm\n",
    "from selenium import webdriver\n",
    "import time\n",
    "movies = pd.read_csv('../movies_not_19.csv')\n",
    "names = movies.영화명.tolist()\n",
    "movie_list = []"
   ]
  },
  {
   "cell_type": "code",
   "execution_count": 38,
   "metadata": {},
   "outputs": [],
   "source": [
    "# names = names[:5]\n",
    "names = ['부활의 노래', '이매큘레이트', '러브 라이즈 블리딩', '짱', '싸움의 기술 2']"
   ]
  },
  {
   "cell_type": "code",
   "execution_count": 6,
   "metadata": {},
   "outputs": [
    {
     "data": {
      "text/plain": [
       "['부활의 노래', '이매큘레이트', '러브 라이즈 블리딩', '짱', '싸움의 기술 2']"
      ]
     },
     "execution_count": 6,
     "metadata": {},
     "output_type": "execute_result"
    }
   ],
   "source": [
    "names"
   ]
  },
  {
   "cell_type": "code",
   "execution_count": 29,
   "metadata": {},
   "outputs": [],
   "source": [
    "wd = webdriver.Chrome()"
   ]
  },
  {
   "cell_type": "code",
   "execution_count": 52,
   "metadata": {},
   "outputs": [
    {
     "name": "stderr",
     "output_type": "stream",
     "text": [
      "100%|██████████| 13254/13254 [8:39:38<00:00,  2.35s/it]  \n"
     ]
    }
   ],
   "source": [
    "for i in tqdm(names[52:]):\n",
    "    try:\n",
    "        url = f\"https://serieson.naver.com/v3/search?query={i}\"\n",
    "        wd.get(url)\n",
    "        time.sleep(int(1))\n",
    "        html = wd.page_source\n",
    "        soup = BeautifulSoup(html, 'html.parser')\n",
    "        movie_url = 'https://serieson.naver.com'\n",
    "        url1 = ''\n",
    "        for i in soup.select('ul li a'):\n",
    "            if re.search('/v2/movie/[0-9]+', i.attrs['href']):\n",
    "                url1 = i.attrs['href']\n",
    "                break\n",
    "        wd.get(movie_url + url1)\n",
    "        movie_html = wd.page_source\n",
    "\n",
    "        soup = BeautifulSoup(movie_html, 'html.parser')\n",
    "        title = soup.select('#content > div.end_contents_info > div > div.title_area > div.title > strong')[0].text\n",
    "        score = soup.select('#content > div.end_contents_info > div > div.title_area > div.info span')[0].text\n",
    "        year = soup.select('#content > div.end_contents_info > div > div.title_area > div.info span')[1].text\n",
    "        movie_time = soup.select('#content > div.end_contents_info > div > div.title_area > div.info span')[2].text\n",
    "        age = soup.select('#content > div.end_contents_info > div > div.title_area > div.info span')[3].text\n",
    "        director = soup.select('#content > div.end_contents_info > ul li div')[0].text\n",
    "        actor = soup.select('#content > div.end_contents_info > ul li div')[2].text\n",
    "        synopsis = soup.select('#content > div.end_contents_info > ul li div')[4].text\n",
    "        movie_list.append([title, score, year, movie_time, age, director, actor, synopsis])\n",
    "    except:\n",
    "        pass"
   ]
  },
  {
   "cell_type": "code",
   "execution_count": 53,
   "metadata": {},
   "outputs": [
    {
     "data": {
      "text/plain": [
       "12396"
      ]
     },
     "execution_count": 53,
     "metadata": {},
     "output_type": "execute_result"
    }
   ],
   "source": [
    "len(movie_list)"
   ]
  },
  {
   "cell_type": "code",
   "execution_count": 54,
   "metadata": {},
   "outputs": [],
   "source": [
    "import pickle\n",
    "with open('movie_list.pkl', 'wb') as f:\n",
    "    pickle.dump(movie_list, f)"
   ]
  },
  {
   "cell_type": "code",
   "execution_count": 1,
   "metadata": {},
   "outputs": [],
   "source": [
    "import pickle\n",
    "with open('movie_list.pkl', 'rb') as f:\n",
    "    d = pickle.load(f)"
   ]
  },
  {
   "cell_type": "code",
   "execution_count": 2,
   "metadata": {},
   "outputs": [
    {
     "data": {
      "text/plain": [
       "12396"
      ]
     },
     "execution_count": 2,
     "metadata": {},
     "output_type": "execute_result"
    }
   ],
   "source": [
    "len(d)"
   ]
  },
  {
   "cell_type": "code",
   "execution_count": 37,
   "metadata": {},
   "outputs": [],
   "source": [
    "movie_names = []\n",
    "for i in d:\n",
    "    movie_names.append(i[0])"
   ]
  },
  {
   "cell_type": "code",
   "execution_count": 38,
   "metadata": {},
   "outputs": [
    {
     "name": "stdout",
     "output_type": "stream",
     "text": [
      "6044\n"
     ]
    },
    {
     "data": {
      "text/plain": [
       "['러브 라이즈 블리딩', 'TAR 타르', 'LA 대지진', '배틀쉽', '엑소시스트: 사탄의 부활']"
      ]
     },
     "execution_count": 38,
     "metadata": {},
     "output_type": "execute_result"
    }
   ],
   "source": [
    "movie_names = list(set(movie_names))\n",
    "print(len(movie_names))\n",
    "movie_names[:5]"
   ]
  },
  {
   "cell_type": "code",
   "execution_count": 39,
   "metadata": {},
   "outputs": [],
   "source": [
    "movies = []\n",
    "for i in movie_names:\n",
    "    for name in d:\n",
    "        if i == name[0]:\n",
    "            movies.append(name)\n",
    "            break"
   ]
  },
  {
   "cell_type": "code",
   "execution_count": 40,
   "metadata": {},
   "outputs": [
    {
     "data": {
      "text/plain": [
       "6044"
      ]
     },
     "execution_count": 40,
     "metadata": {},
     "output_type": "execute_result"
    }
   ],
   "source": [
    "len(movies)"
   ]
  },
  {
   "cell_type": "code",
   "execution_count": 50,
   "metadata": {},
   "outputs": [
    {
     "data": {
      "text/plain": [
       "<re.Match object; span=(0, 2), match='출연'>"
      ]
     },
     "execution_count": 50,
     "metadata": {},
     "output_type": "execute_result"
    }
   ],
   "source": [
    "import re\n",
    "re.match('출연', '출연작')"
   ]
  },
  {
   "cell_type": "code",
   "execution_count": 55,
   "metadata": {},
   "outputs": [
    {
     "data": {
      "text/plain": [
       "<re.Match object; span=(0, 2), match='출연'>"
      ]
     },
     "execution_count": 55,
     "metadata": {},
     "output_type": "execute_result"
    }
   ],
   "source": [
    "re.match('출연', movies[5][6])"
   ]
  },
  {
   "cell_type": "code",
   "execution_count": null,
   "metadata": {},
   "outputs": [],
   "source": [
    "['사무라이-검신 주베에', '8', '87분', '15세 관람가', 'DRM', '감독이시하라 시게루', '소개에도 시대 초기, 백년에 걸친 전국시대를 평정한 도쿠가와, 하지만 아직도 천하 통일의 꿈을 꾸는 다이묘들에 의해 마침 평화의 시대에 존재의 이유를 찾지 못하던 닌자들의 암약이 이루어지는데.이러한 움직임을 알게 된 장군 명에 의해 검신으로 일컬어지는 야규 쥬베에는 음모를 파해치기 위해 여행을 떠난다.', '구매이용기간 제한 없음이용기기 PC, 모바일, TV 총 5대제공화질 최대 1080(FHD),3.33GBDRM (저작권 보호장치 적용)']\n",
    "['침묵의 시선', '9.03', '2015', '103분', '15세 관람가', '감독조슈아 오펜하이머', '소개1965년 인도네시아 군부정권 대학살의 기억을 가진 모든 이들에게 ‘람리’라는 이름은 곧 학살을 의미했다. 그는 비밀리에 사라졌던 100만 명의 사람 중 유일하게 목격당한 죽음이었기 때문이다. 알고도 모른척 숨죽여 살아야 했던 사람들에게 ‘람리’의 또 다른 이름은 침묵이자 망각. 그러나 그의 동생 ‘아디’는 50년 만에 형을 죽인 살인자를 찾아가 그 때의 이야기를 묻기 시작하고, 가해자들은 누구보다 자랑스럽고 당당하게 자신이 저지른 소름 끼치는 살인을 증언한다. ‘죽음’은 있지만 ‘책임’은 없는, 인류 역사상 가장 고요하고 잔혹한 이야기!', '구매이용기간 제한 없음이용기기 PC, 모바일, TV 총 5대제공화질 최대 720(HD),2.35GBDRM (저작권 보호장치 적용)']\n",
    "['소림사: 전설의 고수', '4', '2018', '108분', '15세 관람가', '감독도효', '소개서역으로 가던 소림사 승려들이 불의의 무리들과 맞서 싸우는 내용의 무협 영화', '구매이용기간 제한 없음이용기기 PC, 모바일, TV 총 5대제공화질 최대 1080(FHD),4.12GBDRM (저작권 보호장치 적용)']\n",
    "['인디애니박스: 셀마의 단백질 커피', '8.38', '2008', '75분', '12세 관람가', '감독김운기,연상호,장형윤', \"소개 세 감독의 <원티드>, <사랑은 단백질>, <무림일검의 사생활> 3편의 묶어 개봉하는 작품.원티드(WANTED). 공개수배, 셀마를 아시나요? 평화로운 마을에 검은 베일의 수상한 노파가 나타나자 느닷없이 큰 비가 쏟아진다. 다음날 도 같은 현상이 반복되고, 마을주민들은 뒤늦게 찾아온 경관을 통해 그 노파가 공개수배자임을 전해 듣고, 점점 더 공포에 빠진다. 도대체 셀마는 누구일까?사랑은 단백질 (Love is Protein). 세상의 모든 치킨에겐 사연이 있다! 무료한 여름 밤. 자취생 재호, 경순, 홍찬은 돼지 저금통을 털어 치킨을 시킨다. 하지만 족발집의 돼지가 대신 배달을 오고, 그 돼지를 뒤늦게 따라온 닭사장은 배달된 치킨이 제 손으로 튀길 수 밖에 없었던 자기 아들 '닭돌이’라며 대성통곡한다. 그러나 세 친구는 후라이드된 닭돌이의 사연 앞에 각각 입장이 다르다.무림일검의 사생활 (A coffee Vending Machine & It's Sword). ‘커피자판기’라도 괜찮아! 무림제일검이라 불리던 검객 진영영은 강적과의 대결 끝에 죽고, 소원대로 강철로 환생한다. 무슨 곡절인지 차가운 강철의 커피자판기로 환생한 진영영은 가슴에서 따뜻한 커피를 만들어내는 사내가 되고, 술을 먹으면 동정심이 왕성해지는 소녀 혜미와 첫사랑에 빠진다. 먼저 지명수배자인 ‘셀마’를 통해 한국의 정치 상황을 풍자한 애니메이션 <원티드>는 미스터리 스릴러라는 장르를 앞세우며 예고편 초반부터 심상찮은 BGM으로 분위기를 압도한다. <원티드>는 이미 세계 유수의 영화제를 통해 그 작품성을 인정받은 바 있다. 이어지는 연상호 감독의 <사랑은 단백질>은 세 명의 자취생이 통닭을 시켜먹는 과정을 통해 웃기지만 시원하게 웃을 수 없는 씁쓸한 유머를 전한다. 극의 주인공 ‘재호’가 돼지 저금통의 배를 째 통닭 주문할 돈을 마련하는 코믹한 장면과 튀겨질 수 밖에 없었던 닭돌이의 사연을 고백하는 닭사장을 등장시켜 영화의 반전과 극적 재미의 궁금증을 증폭시킨다. 마지막으로 <무림일검의 사생활>은 장형윤 감독 특유의 말랑말랑한 감수성이 절정에 달한 작품으로, 마음을 울리는 아름다운 노래 선율과 함께 커피자판기로 환생한 무림 최고수 ‘진영영’과 혜미의 아기자기한 러브씬이 담겼다.\", '구매이용기간 제한 없음이용기기 PC, 모바일, TV 총 5대제공화질 최대 480(고화질),895MBDRM (저작권 보호장치 적용)']\n",
    "# 출연진이 없는 영화는 위와 같이 출력됨"
   ]
  },
  {
   "cell_type": "code",
   "execution_count": 57,
   "metadata": {},
   "outputs": [],
   "source": [
    "# 출연이 있는 영화만 가져옴\n",
    "filter_movies = []\n",
    "for m in movies:\n",
    "    if re.match('출연', m[6]):\n",
    "        filter_movies.append(m)\n",
    "    # else:\n",
    "    #     print(m)"
   ]
  },
  {
   "cell_type": "code",
   "execution_count": 58,
   "metadata": {},
   "outputs": [
    {
     "data": {
      "text/plain": [
       "5932"
      ]
     },
     "execution_count": 58,
     "metadata": {},
     "output_type": "execute_result"
    }
   ],
   "source": [
    "len(filter_movies)"
   ]
  },
  {
   "cell_type": "code",
   "execution_count": 62,
   "metadata": {},
   "outputs": [
    {
     "data": {
      "text/plain": [
       "'독케이스 샘플즈'"
      ]
     },
     "execution_count": 62,
     "metadata": {},
     "output_type": "execute_result"
    }
   ],
   "source": [
    "filter_movies[0][5][2:]"
   ]
  },
  {
   "cell_type": "code",
   "execution_count": 63,
   "metadata": {},
   "outputs": [],
   "source": [
    "# 감독, 출연이 있는 구간의 첫번째 단어 제거\n",
    "for i in range(len(filter_movies)):\n",
    "    if re.match('감독', filter_movies[i][5]):\n",
    "        filter_movies[i][5] = filter_movies[i][5][2:]\n",
    "    if re.match('출연', filter_movies[i][6]):\n",
    "        filter_movies[i][6] = filter_movies[i][6][2:]"
   ]
  },
  {
   "cell_type": "code",
   "execution_count": 64,
   "metadata": {},
   "outputs": [
    {
     "data": {
      "text/plain": [
       "['러브 라이즈 블리딩',\n",
       " '6.83',\n",
       " '93분',\n",
       " '청소년 관람불가',\n",
       " 'DRM',\n",
       " '케이스 샘플즈',\n",
       " '브라이언 게라그티, 제나 드완, 크리스찬 슬레이터',\n",
       " '소개듀크와 앰버는 멕시칸 갱들의 괴롭힘과 희망없는 현실 속에서 서로에 대한 사랑만으로 겨우 버티며 살아가고 있다. 그러나 더이상 갱들의 행포를 참지 못한 듀크는 총을 구해서 갱들의 아지트로 간다. 그가 그 곳에서 본 것은 총격후의 쓰러져 있는 사람들과 돈가방... (mrsleep@naver.com)']"
      ]
     },
     "execution_count": 64,
     "metadata": {},
     "output_type": "execute_result"
    }
   ],
   "source": [
    "filter_movies[0]"
   ]
  },
  {
   "cell_type": "code",
   "execution_count": 69,
   "metadata": {},
   "outputs": [
    {
     "data": {
      "text/plain": [
       "['TAR 타르',\n",
       " '7.83',\n",
       " '2023',\n",
       " '158분',\n",
       " '15세 관람가',\n",
       " '토드 필드',\n",
       " '케이트 블란쳇, 노에미 메를랑, 니나 호스',\n",
       " '소개무대를 장악하는 마에스트로, 욕망을 불태우는 괴물,베를린 필하모닉 최초의 여성 지휘자 리디아 타르. 이 이야기는 그녀의 정점에서 시작된다.']"
      ]
     },
     "execution_count": 69,
     "metadata": {},
     "output_type": "execute_result"
    }
   ],
   "source": [
    "filter_movies[1]"
   ]
  },
  {
   "cell_type": "code",
   "execution_count": 75,
   "metadata": {},
   "outputs": [],
   "source": [
    "movies = []\n",
    "for i in filter_movies:\n",
    "    if 'DRM' not in i:\n",
    "        movies.append(i)"
   ]
  },
  {
   "cell_type": "code",
   "execution_count": 77,
   "metadata": {},
   "outputs": [
    {
     "name": "stdout",
     "output_type": "stream",
     "text": [
      "5449\n"
     ]
    },
    {
     "data": {
      "text/plain": [
       "['TAR 타르',\n",
       " '7.83',\n",
       " '2023',\n",
       " '158분',\n",
       " '15세 관람가',\n",
       " '토드 필드',\n",
       " '케이트 블란쳇, 노에미 메를랑, 니나 호스',\n",
       " '소개무대를 장악하는 마에스트로, 욕망을 불태우는 괴물,베를린 필하모닉 최초의 여성 지휘자 리디아 타르. 이 이야기는 그녀의 정점에서 시작된다.']"
      ]
     },
     "execution_count": 77,
     "metadata": {},
     "output_type": "execute_result"
    }
   ],
   "source": [
    "print(len(movies))\n",
    "movies[0]"
   ]
  },
  {
   "cell_type": "code",
   "execution_count": null,
   "metadata": {},
   "outputs": [],
   "source": [
    "영화명, 평점, 연도, 상영시간, 연령, 감독, 출연, 시놉시스"
   ]
  },
  {
   "cell_type": "code",
   "execution_count": null,
   "metadata": {},
   "outputs": [],
   "source": []
  },
  {
   "cell_type": "code",
   "execution_count": 105,
   "metadata": {},
   "outputs": [],
   "source": [
    "import pickle\n",
    "with open('naver_serieson.pkl', 'rb') as f:\n",
    "    movies = pickle.load(f)"
   ]
  },
  {
   "cell_type": "code",
   "execution_count": 157,
   "metadata": {},
   "outputs": [],
   "source": [
    "# 장르 추출..\n",
    "url = 'https://search.naver.com/search.naver?where=nexearch&sm=top_hty&fbm=0&ie=utf8&query='"
   ]
  },
  {
   "cell_type": "code",
   "execution_count": 111,
   "metadata": {},
   "outputs": [
    {
     "name": "stderr",
     "output_type": "stream",
     "text": [
      "  0%|          | 0/5449 [00:00<?, ?it/s]"
     ]
    },
    {
     "name": "stderr",
     "output_type": "stream",
     "text": [
      "100%|██████████| 5449/5449 [13:53<00:00,  6.53it/s] \n"
     ]
    }
   ],
   "source": [
    "genre = []\n",
    "for i in tqdm(movies):\n",
    "    response = requests.get(url+i[0]+'+장르')\n",
    "    html = BeautifulSoup(response.text, 'html.parser')\n",
    "    \n",
    "    for j in html.select('.info_group'):\n",
    "        if '장르' in j.text:\n",
    "            genre.append([i[0], j.text])\n",
    "            break"
   ]
  },
  {
   "cell_type": "code",
   "execution_count": 112,
   "metadata": {},
   "outputs": [
    {
     "data": {
      "text/plain": [
       "633"
      ]
     },
     "execution_count": 112,
     "metadata": {},
     "output_type": "execute_result"
    }
   ],
   "source": [
    "len(genre)"
   ]
  },
  {
   "cell_type": "code",
   "execution_count": 119,
   "metadata": {},
   "outputs": [
    {
     "data": {
      "text/plain": [
       "'하쉬 타임'"
      ]
     },
     "execution_count": 119,
     "metadata": {},
     "output_type": "execute_result"
    }
   ],
   "source": [
    "movies[-3][0]"
   ]
  },
  {
   "cell_type": "code",
   "execution_count": 121,
   "metadata": {},
   "outputs": [],
   "source": [
    "for i in range(len(movies)):\n",
    "    for g in genre:\n",
    "        if g[0] == movies[i][0]:\n",
    "            movies[i].append(g[1])"
   ]
  },
  {
   "cell_type": "code",
   "execution_count": 122,
   "metadata": {},
   "outputs": [
    {
     "data": {
      "text/plain": [
       "['TAR 타르',\n",
       " '7.83',\n",
       " '2023',\n",
       " '158분',\n",
       " '15세 관람가',\n",
       " '토드 필드',\n",
       " '케이트 블란쳇, 노에미 메를랑, 니나 호스',\n",
       " '소개무대를 장악하는 마에스트로, 욕망을 불태우는 괴물,베를린 필하모닉 최초의 여성 지휘자 리디아 타르. 이 이야기는 그녀의 정점에서 시작된다.',\n",
       " ' 장르 드라마 ']"
      ]
     },
     "execution_count": 122,
     "metadata": {},
     "output_type": "execute_result"
    }
   ],
   "source": [
    "movies[0]"
   ]
  },
  {
   "cell_type": "code",
   "execution_count": 124,
   "metadata": {},
   "outputs": [],
   "source": [
    "genre_movies = []\n",
    "none_genre = []\n",
    "for movie in movies:\n",
    "    if len(movie) == 9:\n",
    "        genre_movies.append(movie)\n",
    "    else:\n",
    "        none_genre.append(movie)"
   ]
  },
  {
   "cell_type": "code",
   "execution_count": 235,
   "metadata": {},
   "outputs": [
    {
     "name": "stdout",
     "output_type": "stream",
     "text": [
      "633\n",
      "4816\n"
     ]
    }
   ],
   "source": [
    "print(len(genre_movies))\n",
    "print(len(none_genre))"
   ]
  },
  {
   "cell_type": "code",
   "execution_count": 236,
   "metadata": {},
   "outputs": [],
   "source": [
    "import pickle\n",
    "with open('naver_serieson_genre.pkl', 'wb') as f:\n",
    "    pickle.dump(genre_movies, f)"
   ]
  },
  {
   "cell_type": "code",
   "execution_count": 237,
   "metadata": {},
   "outputs": [],
   "source": [
    "with open('naver_serieson_none_genre.pkl', 'wb') as f:\n",
    "    pickle.dump(none_genre, f)"
   ]
  },
  {
   "cell_type": "code",
   "execution_count": 136,
   "metadata": {},
   "outputs": [
    {
     "data": {
      "text/plain": [
       "[['LA 대지진',\n",
       "  '4.07',\n",
       "  '2017',\n",
       "  '87분',\n",
       "  '15세 관람가',\n",
       "  '데이비드 지달리',\n",
       "  '헨리 이안 쿠식, 캐머런 리처드슨, 말콤 바렛',\n",
       "  '소개정유 회사의 사장 리터는 LA 국립공원 근처에 새 시추 스테이션을 열어 기름을 빼내려는 계획을 세운다.그 이후 LA 는 점차 상상 할수 없는 거대한 지진이 발생하고, 그로인해 사람들은 목숨을 잃어 간다. 지질 연구소에서 일하는 에밀리는 LA 대지진의 진원지인 시추 스테이션 이란 사실을 알게 되고 파괴하려 하지만 리터는 그걸 막기 위해 또다른 음모를 세우는데.. '],\n",
       " ['미스터 좀비(감독판)',\n",
       "  '5.37',\n",
       "  '2010',\n",
       "  '105분',\n",
       "  '15세 관람가',\n",
       "  '이수성',\n",
       "  '원풍연, 배누리, 김동현, 이용녀, 노형욱, 전현숙, 이상훈, 문영동, 조재윤, 한송우',\n",
       "  '소개능력이라곤 숨 쉬는 것 빼고는 제로인 40대 영철. 코딱지만한 치킨 집을 운영하지만 맛은 동네꼴찌. 쥐꼬리만한 돈마저 주식에 날려버리고 한심하게 살아간다. 하루하루 낙 없이 살아가는 영철은 심지어 좀비에게 물려 좀비가 되는 지경에까지 간다. 그러던 어느날 영철이 사채업자에게 빌린 돈 때문에 가족에게 크나큰 위기가 닥치고, 무기력 그 자체인줄만 알았던 좀비 영철은 가족을 살리기 위해 온 몸을 다해 싸우게 되는데…'],\n",
       " ['더 레이디',\n",
       "  '8.81',\n",
       "  '2012',\n",
       "  '132분',\n",
       "  '15세 관람가',\n",
       "  '뤽 베송',\n",
       "  '양자경, 데이빗 듈리스, 조나단 우드하우스, 베네딕 웡, 윌리엄 홉, 사하작 본다나킷, 조나단 래갯, 수잔 울드릿지',\n",
       "  '소개한 남자의 아내이자 두 아이의 엄마로 영국에서 평범한 삶을 살던 아웅 산 수 치는 위독한 어머니의 병간호를 위해 미얀마로 돌아간다. 하지만 오랜만에 찾은 고국에서 자유를 탄압받고 있는 끔찍한 상황을 목격하게 되고, 자신을 지지하는 국민들의 바람을 받아들여 아버지가 못다 이룬 조국의 민주화를 실현시키기로 결심한다. 그러나 독재적인 군사정권에 의해 오히려 가택연금을 당하는 신세가 된다. 외부와 차단된 길고 외로운 나날이 계속되던 그녀에게 남편이 암에 걸려 죽음을 앞두고 있다는 소식이 전해진다. 그녀만을 바라보며 희망을 보는 국민들과 사랑하는 남편의 마지막 모습, 둘 중에 하나만 선택해야 하는 가혹한 현실 앞에서 지금껏 꿋꿋하게 잘 버텨왔던 그녀의 마음이 처음으로 흔들리기 시작하는데……'],\n",
       " ['감동주의보',\n",
       "  '7.83',\n",
       "  '2022',\n",
       "  '98분',\n",
       "  '전체 관람가',\n",
       "  '김우석',\n",
       "  '홍수아, 최웅, 기주봉, 남포동, 이희구, 설지윤, 현철호, 신하랑, 놀린 조이스, 김경룡',\n",
       "  '소개감동받으면 죽는다고?!희귀질환인 감동병을 앓는 컬링 천재 보영(홍수아).평생을 함께하고 싶은 시골청년 ‘철기’(최웅)를 만나인생 최고의 순간들을 맞이한다.어느날, 코피가 멈추게 하는 방법(?)을 찾게 되면서포기했던 컬링을 다시 도전하게 되는데… 보영은 감동병을 이기고 꿈과 사랑두 마리 토끼를 다 잡을 수 있을까?'],\n",
       " ['이름없는 새',\n",
       "  '7.39',\n",
       "  '2018',\n",
       "  '123분',\n",
       "  '청소년 관람불가',\n",
       "  '시라이시 카즈야',\n",
       "  '아오이 유우, 아베 사다오, 마츠자카 토리, 타케노우치 유타카, 무라카와 에리, 아카호리 마사아키',\n",
       "  \"소개인생의 낙이라곤 서비스 센터에 전화해 불평이나 퍼붓는 것이 전부인 여자 '토와코'는가진 것 없고 볼품없지만 그녀를 위해선 뭐든 할 수 있다는 남자 '진지'에게 얹혀사는 신세다.어느 날, 그녀는 컴플레인을 걸다 알게 된 백화점 직원 '미즈시마'를 상대로 불륜에 빠지게 되고,그와의 장밋빛 미래를 꿈꾸던 그녀에게 한 남자의 실종 사건을 조사 중인 형사가 찾아오는데...뒤늦게 알게 된 옛 연인 '쿠로사키'의 실종,'미즈시마' 주변에서 일어나는 일련의 의심쩍은 사건들,지나칠만큼 그녀를 사랑하는 남자 '진지'.'토와코'는 왠지 모를 기시감과 불안감에 휩싸이게 되는데...그녀가 모르고 있는 비밀의 실체는?한 여자를 둘러싼 가장 미스터리한 로맨스가 펼쳐진다!\"]]"
      ]
     },
     "execution_count": 136,
     "metadata": {},
     "output_type": "execute_result"
    }
   ],
   "source": [
    "none_genre[:5]"
   ]
  },
  {
   "cell_type": "code",
   "execution_count": 241,
   "metadata": {},
   "outputs": [
    {
     "data": {
      "text/plain": [
       "5449"
      ]
     },
     "execution_count": 241,
     "metadata": {},
     "output_type": "execute_result"
    }
   ],
   "source": [
    "len(movies)"
   ]
  },
  {
   "cell_type": "code",
   "execution_count": 1,
   "metadata": {},
   "outputs": [],
   "source": [
    "import pickle\n",
    "with open('naver_serieson.pkl', 'rb') as f:\n",
    "    movies = pickle.load(f)"
   ]
  },
  {
   "cell_type": "code",
   "execution_count": 2,
   "metadata": {},
   "outputs": [
    {
     "data": {
      "text/plain": [
       "['이름없는 새',\n",
       " '7.39',\n",
       " '2018',\n",
       " '123분',\n",
       " '청소년 관람불가',\n",
       " '시라이시 카즈야',\n",
       " '아오이 유우, 아베 사다오, 마츠자카 토리, 타케노우치 유타카, 무라카와 에리, 아카호리 마사아키',\n",
       " \"소개인생의 낙이라곤 서비스 센터에 전화해 불평이나 퍼붓는 것이 전부인 여자 '토와코'는가진 것 없고 볼품없지만 그녀를 위해선 뭐든 할 수 있다는 남자 '진지'에게 얹혀사는 신세다.어느 날, 그녀는 컴플레인을 걸다 알게 된 백화점 직원 '미즈시마'를 상대로 불륜에 빠지게 되고,그와의 장밋빛 미래를 꿈꾸던 그녀에게 한 남자의 실종 사건을 조사 중인 형사가 찾아오는데...뒤늦게 알게 된 옛 연인 '쿠로사키'의 실종,'미즈시마' 주변에서 일어나는 일련의 의심쩍은 사건들,지나칠만큼 그녀를 사랑하는 남자 '진지'.'토와코'는 왠지 모를 기시감과 불안감에 휩싸이게 되는데...그녀가 모르고 있는 비밀의 실체는?한 여자를 둘러싼 가장 미스터리한 로맨스가 펼쳐진다!\"]"
      ]
     },
     "execution_count": 2,
     "metadata": {},
     "output_type": "execute_result"
    }
   ],
   "source": [
    "movies[9]"
   ]
  },
  {
   "cell_type": "code",
   "execution_count": 3,
   "metadata": {},
   "outputs": [
    {
     "data": {
      "text/plain": [
       "5449"
      ]
     },
     "execution_count": 3,
     "metadata": {},
     "output_type": "execute_result"
    }
   ],
   "source": [
    "len(movies)"
   ]
  },
  {
   "cell_type": "code",
   "execution_count": 5,
   "metadata": {},
   "outputs": [
    {
     "data": {
      "text/html": [
       "<div>\n",
       "<style scoped>\n",
       "    .dataframe tbody tr th:only-of-type {\n",
       "        vertical-align: middle;\n",
       "    }\n",
       "\n",
       "    .dataframe tbody tr th {\n",
       "        vertical-align: top;\n",
       "    }\n",
       "\n",
       "    .dataframe thead th {\n",
       "        text-align: right;\n",
       "    }\n",
       "</style>\n",
       "<table border=\"1\" class=\"dataframe\">\n",
       "  <thead>\n",
       "    <tr style=\"text-align: right;\">\n",
       "      <th></th>\n",
       "      <th>영화명</th>\n",
       "      <th>영화명(영문)</th>\n",
       "      <th>제작연도</th>\n",
       "      <th>제작국가</th>\n",
       "      <th>유형</th>\n",
       "      <th>장르</th>\n",
       "      <th>제작상태</th>\n",
       "      <th>감독</th>\n",
       "      <th>제작사</th>\n",
       "    </tr>\n",
       "  </thead>\n",
       "  <tbody>\n",
       "    <tr>\n",
       "      <th>0</th>\n",
       "      <td>부활의 노래</td>\n",
       "      <td>The Song Of Resurrection</td>\n",
       "      <td>1990.0</td>\n",
       "      <td>한국</td>\n",
       "      <td>장편</td>\n",
       "      <td>드라마</td>\n",
       "      <td>개봉</td>\n",
       "      <td>이정국</td>\n",
       "      <td>새빛영화제작소</td>\n",
       "    </tr>\n",
       "    <tr>\n",
       "      <th>1</th>\n",
       "      <td>이매큘레이트</td>\n",
       "      <td>Immaculate</td>\n",
       "      <td>2024.0</td>\n",
       "      <td>미국</td>\n",
       "      <td>장편</td>\n",
       "      <td>공포(호러)</td>\n",
       "      <td>개봉</td>\n",
       "      <td>마이클 모한</td>\n",
       "      <td>NaN</td>\n",
       "    </tr>\n",
       "    <tr>\n",
       "      <th>2</th>\n",
       "      <td>러브 라이즈 블리딩</td>\n",
       "      <td>Love Lies Bleeding</td>\n",
       "      <td>2023.0</td>\n",
       "      <td>미국</td>\n",
       "      <td>장편</td>\n",
       "      <td>범죄,멜로/로맨스</td>\n",
       "      <td>개봉</td>\n",
       "      <td>로즈 글래스</td>\n",
       "      <td>NaN</td>\n",
       "    </tr>\n",
       "    <tr>\n",
       "      <th>3</th>\n",
       "      <td>짱</td>\n",
       "      <td>Top Dog</td>\n",
       "      <td>2018.0</td>\n",
       "      <td>한국</td>\n",
       "      <td>장편</td>\n",
       "      <td>액션</td>\n",
       "      <td>개봉</td>\n",
       "      <td>송재덕</td>\n",
       "      <td>(주)영화사 사계절,펀펀한영화사</td>\n",
       "    </tr>\n",
       "    <tr>\n",
       "      <th>4</th>\n",
       "      <td>싸움의 기술 2</td>\n",
       "      <td>The Art of Fighting 2</td>\n",
       "      <td>2020.0</td>\n",
       "      <td>한국</td>\n",
       "      <td>장편</td>\n",
       "      <td>액션</td>\n",
       "      <td>개봉</td>\n",
       "      <td>김희성</td>\n",
       "      <td>(주)영화사 사계절</td>\n",
       "    </tr>\n",
       "  </tbody>\n",
       "</table>\n",
       "</div>"
      ],
      "text/plain": [
       "          영화명                   영화명(영문)    제작연도 제작국가  유형         장르 제작상태  \\\n",
       "0      부활의 노래  The Song Of Resurrection  1990.0   한국  장편        드라마   개봉   \n",
       "1      이매큘레이트                Immaculate  2024.0   미국  장편     공포(호러)   개봉   \n",
       "2  러브 라이즈 블리딩        Love Lies Bleeding  2023.0   미국  장편  범죄,멜로/로맨스   개봉   \n",
       "3           짱                   Top Dog  2018.0   한국  장편         액션   개봉   \n",
       "4    싸움의 기술 2     The Art of Fighting 2  2020.0   한국  장편         액션   개봉   \n",
       "\n",
       "       감독                제작사  \n",
       "0     이정국            새빛영화제작소  \n",
       "1  마이클 모한                NaN  \n",
       "2  로즈 글래스                NaN  \n",
       "3     송재덕  (주)영화사 사계절,펀펀한영화사  \n",
       "4     김희성         (주)영화사 사계절  "
      ]
     },
     "execution_count": 5,
     "metadata": {},
     "output_type": "execute_result"
    }
   ],
   "source": [
    "import pandas as pd\n",
    "df = pd.read_csv('../movies_not_19.csv')\n",
    "df.head()"
   ]
  },
  {
   "cell_type": "code",
   "execution_count": 6,
   "metadata": {},
   "outputs": [],
   "source": [
    "cnt = 0\n",
    "idx = []\n",
    "for i in range(len(movies)):\n",
    "    try:\n",
    "        movies[i].append(list(df[df.영화명 == movies[i][0]]['장르'].values)[0])\n",
    "    except:\n",
    "        cnt += 1\n",
    "        idx.append(i)"
   ]
  },
  {
   "cell_type": "code",
   "execution_count": 7,
   "metadata": {},
   "outputs": [
    {
     "data": {
      "text/plain": [
       "1003"
      ]
     },
     "execution_count": 7,
     "metadata": {},
     "output_type": "execute_result"
    }
   ],
   "source": [
    "cnt"
   ]
  },
  {
   "cell_type": "code",
   "execution_count": 8,
   "metadata": {},
   "outputs": [],
   "source": [
    "genre_movie = []\n",
    "none_genre = []\n",
    "for m in movies:\n",
    "    if len(m) == 9:\n",
    "        genre_movie.append(m)\n",
    "    else:\n",
    "        none_genre.append(m)"
   ]
  },
  {
   "cell_type": "code",
   "execution_count": 9,
   "metadata": {},
   "outputs": [
    {
     "data": {
      "text/plain": [
       "4446"
      ]
     },
     "execution_count": 9,
     "metadata": {},
     "output_type": "execute_result"
    }
   ],
   "source": [
    "len(genre_movie)"
   ]
  },
  {
   "cell_type": "code",
   "execution_count": 10,
   "metadata": {},
   "outputs": [],
   "source": [
    "import pickle\n",
    "with open('naver_serieson2_4446.pkl', 'wb') as f:\n",
    "    pickle.dump(genre_movie, f)"
   ]
  },
  {
   "cell_type": "code",
   "execution_count": 278,
   "metadata": {},
   "outputs": [],
   "source": [
    "names = []\n",
    "for m in idx:\n",
    "    names.append(movies[m][0])"
   ]
  },
  {
   "cell_type": "code",
   "execution_count": 280,
   "metadata": {},
   "outputs": [
    {
     "name": "stdout",
     "output_type": "stream",
     "text": [
      "미스터 좀비(감독판)\n",
      "수용소의 삶 : 디지털삼인삼색2007\n",
      "나쁜 이웃들\n",
      "테이크 쉘터\n",
      "극장판 타오르지마 버스터 - 블랙어썰트의 귀환\n",
      "볼트(패키지: 자막판+더빙판)\n",
      "117편의 러브레터\n",
      "핑크퐁 시네마 콘서트 3: 진저브레드맨을 잡아라\n",
      "슈퍼배드 2(스페셜 더빙영상 추가본)\n",
      "색즉시공 시즌 2\n",
      "말괄량이 마녀 로비와 숲 속 친구들\n",
      "왕을 참하라(무삭제판)\n",
      "메가로돈 2(세트: 메가로돈+메가로돈2)\n",
      "퍼펙트 게임(리마스터링)\n",
      "서양골동양과자점 앤티크\n",
      "도쿄 택시\n",
      "태평륜피안\n",
      "엑소시즘:로스트테이프\n",
      "열한시(가치봄영화:시청각장애인용)\n",
      "청춘학당:무삭제판\n",
      "극장판 신비아파트 극장판 차원도깨비와 7개의 세계\n",
      "씽2게더(패키지: 자막판+더빙판)\n",
      "토르: 러브 앤 썬더(세트: 토르 1~4편, 자막+더빙판 포함)\n",
      "드래곤 길들이기 3(패키지: 자막판+더빙판)\n",
      "하이큐!! 재능과 센스(자막)\n",
      "스타워즈: 에피소드 1 -  보이지 않는 위험\n",
      "엑스 파일: 나는 믿고 싶다\n",
      "수호지 - 강철보갑\n",
      "나인 송즈\n",
      "황후花\n",
      "좋아하게 되는 그 순간을. ~고백실행위원회~\n",
      "몬스터 헌터(부가영상 제공)\n",
      "대부업자:소울 앤 캐시\n",
      "두 세계 사이에서\n",
      "극장판 포켓 몬스터 DP - 아르세우스 초극의 시공으로\n",
      "리틀 포레스트2: 겨울과 봄(세트: 1~2편)\n",
      "살인자의 기억법 : 새로운 기억(감독판)\n",
      "가디언즈 오브 갤럭시 VOL. 2(패키지: 자막판+더빙판+부가영상)\n",
      "극장판 짱구는 못말려 24기 - 폭풍수면! 꿈꾸는 세계 대돌격\n",
      "목격자 : 눈이 없는 아이\n",
      "반지의 제왕: 두 개의 탑_(확장판)(확장판 HD)\n",
      "배트맨 4 - 배트맨과 로빈\n",
      "극장판 바다 탐험대 옥토넛 : 대산호초 보호작전(패키지: 자막판+더빙판)\n",
      "넥스트 투모로우2\n",
      "셜리에 관한 모든 것\n",
      "섹스 마네킹\n",
      "흥부 글로 세상을 바꾼 자\n",
      "엑소시스트: 더 바티칸(부가영상 제공)\n",
      "헤이라이드:죽음의마을\n",
      "유니버셜 솔저 4: 클론의 반란\n",
      "해리 포터와 죽음의 성물 - 1부(7-1편, 자막판)\n",
      "할로우 차일드 숲 속의 문\n",
      "미션 임파서블: 폴아웃(부가영상 제공)\n",
      "토이 스토리 4(세트: 1~4편)\n",
      "예전부터 계속 좋아했어. ~고백실행위원회~\n",
      "톰과 제리(패키지: 자막판+더빙판)\n",
      "어느 하녀의 일기\n",
      "명탐정 코난: 은빛 날개의 마술사\n",
      "레고 배트맨 무비(패키지상품 : 더빙판 추가증정, 부가영상 제공)\n",
      "지옥의 묵시록(파이널컷)\n",
      "메가 파이톤 VS 게토로이드\n",
      "중경삼림(리마스터링)\n",
      "꺼져버려 종양군\n",
      "극장판 프리! - 타임리스 메들리 - 인연(자막판)\n",
      "동경 표류일기\n",
      "인사이드 르윈\n",
      "1789 바스티유의 연인들\n",
      "킹덤3: 운명의 불꽃\n",
      "명탐정 코난: 침묵의 15분\n",
      "에픽 : 숲속의 전설\n",
      "진바오의 모험\n",
      "거침없이 쏴라! 슛 뎀 업\n",
      "백야행 - 하얀 어둠 속을 걷다\n",
      "창은\n",
      "김씨 표류기\n",
      "올드 미스 다이어리 - 극장판\n",
      "수호지 - 명포 배선\n",
      "명탐정 코난: 이차원의 저격수\n",
      "영도다리\n",
      "애프터 쇼크\n",
      "네 멋대로 해라: 장 뤽 고다르\n",
      "동행: 10년의 발걸음\n",
      "고질라 X 콩: 뉴 엠파이어(부가영상 제공)\n",
      "대립군(부가영상제공)\n",
      "완벽한 그녀에게 딱 한가지 없는 것\n",
      "볼코노고프 대위 탈출하다\n",
      "스티븐시걸의 살인면허\n",
      "경축! 우리 사랑\n",
      "매지컬 : 공주를 웃겨라\n",
      "마터스: 천국을 보는 눈\n",
      "극장판 명탐정 코난: 순흑의 악몽\n",
      "볼츠와 블립\n",
      "게이트(완결판)\n",
      "키즈모노가타리 III 냉혈편\n",
      "적벽대전 2부 - 최후의 결전\n",
      "우는 남자(가치봄영화:시청각장애인용)\n",
      "로빈 후드: 리벨리언\n",
      "곡성(哭聲)(부가영상 제공)\n",
      "역모 - 반란의 시대\n",
      "가문의 영광5-가문의 귀환\n",
      "범죄와의 전쟁 : 나쁜놈들 전성시대\n",
      "그때 그들 확장판2: 끝나지 않은 유혹(확장판2: 끝나지 않은 유혹)\n",
      "붕대 클럽\n",
      "마당을 나온 암탉(가치봄영화:시청각장애인용)\n",
      "모노노케 히메(원령공주)\n",
      "21 브릿지: 테러 셧다운\n",
      "분노의 질주: 라이드 오어 다이(세트: 분노의 질주 1~10편)\n",
      "겟 아웃(부가영상 제공)\n",
      "배틀 트랩\n",
      "목소리의 형태(가치봄영화:시청각장애인용)\n",
      "무티: 주술 살인\n",
      "은지: 돌이킬 수 없는 그녀\n",
      "수호지 - 명포영웅 호연작\n",
      "와일드라이프\n",
      "귀\n",
      "카페 벨에포크\n",
      "체온-그녀의 온도\n",
      "컨저링 3: 악마가 시켰다(세트: 1~3편)\n",
      "65(부가영상 제공)\n",
      "애나벨: 인형의 주인\n",
      "샤먼 로드\n",
      "님은 먼곳에\n",
      "보헤미안 랩소디(부가영상 제공)\n",
      "블레이드 러너 2049(부가영상 제공)\n",
      "검치호\n",
      "어벤져스: 인피니티 워(패키지: 자막판+더빙판+코멘터리+부가영상)\n",
      "신과함께-죄와 벌(가치봄영화:시청각장애인용)\n",
      "15소년 표류기:해적섬을 탈출하라\n",
      "더 체인질링\n",
      "적인걸2: 신도해왕의 비밀\n",
      "곰돌이 푸 다시 만나 행복해(패키지상품: 더빙판+부가영상 제공)\n",
      "엔드오브왓치:NYPD\n",
      "소드 마스터: 절대 강호의 죽음\n",
      "극장판 요괴워치3: 하늘을 나는 고래와 더블세계다냥!\n",
      "외인부대: 암살자들\n",
      "다운사이징(부가영상 제공)\n",
      "갤로워커:블레이드의 귀환\n",
      "텐 아이템 오어 레스\n",
      "더 건맨: 테이큰 감독 뉴프로젝트\n",
      "크리미널: 해튼가든\n",
      "사라진 시간(가치봄영화:시청각장애인용)\n",
      "열여덟,열아홉\n",
      "리얼생존예능 펀하우스\n",
      "터널 3D(무삭제 2D버전)\n",
      "요요마와 실크로드 앙상블\n",
      "해리 포터와 혼혈 왕자(6편)\n",
      "초한지 - 천하대전(감독판)\n",
      "밀정 1930\n",
      "아바타 정글의 비밀(2D)\n",
      "늑대소년(확장판)(확장판)\n",
      "찰리 윌슨의 전쟁\n",
      "미라클맨\n",
      "쥬라기헌터\n",
      "헤일, 시저!(부가영상제공)\n",
      "블러디 쉐이크\n",
      "소울메이트(가치봄영화:시청각장애인용)\n",
      "최강 로맨스\n",
      "싱글 인 서울(가치봄영화:시청각장애인용)\n",
      "스타워즈 에피소드 6 - 제다이의 귀환\n",
      "풍뎅이뎅이 스페셜\n",
      "익스트림 No.13(감독판)\n",
      "극장판 헬로카봇:옴파로스 섬의 비밀\n",
      "고령화가족\n",
      "라따뚜이(패키지상품 : 더빙판 추가증정)\n",
      "이빨요정 비올레타: 요정나라로 돌아갈래!\n",
      "비행기2: 소방구조대(패키지: 자막판+더빙판)\n",
      "오목소녀(가치봄영화:시청각장애인용)\n",
      "킬러의 보디가드(무삭제 특별판)\n",
      "메가샤크 VS 크로코사우러스\n",
      "지오스톰(2D)\n",
      "공공의 적 - 살인마\n",
      "쇼크웨이브\n",
      "레미제라블(2012년작)\n",
      "127 시간\n",
      "물안에서(가치봄영화:시청각장애인용)\n",
      "이스케이프 플랜3\n",
      "용의주도 미스 신\n",
      "그때 그들 확장판1: 욕망의 부활(확장판1: 욕망의 부활)\n",
      "다이노소어 어드벤처 3D(2D)\n",
      "나의 특별한 사랑 이야기\n",
      "어떤방문 : 디지털삼인삼색2009\n",
      "상사부일체 - 두사부일체 3\n",
      "문호 스트레이독스 [데드애플]\n",
      "다크 아워\n",
      "이토록 긴 하루 : 디지털삼인삼색2008\n",
      "첫눈이 사라졌다\n",
      "인디아나 존스: 크리스탈 해골의 왕국\n",
      "요가학원:죽음의쿤달리니\n",
      "소림사강호영패\n",
      "커피메이트\n",
      "루카(패키지: 자막판+더빙판+부가영상)\n",
      "쥬라기 공원 3D(2D 버전)\n",
      "극장판 파워레인저: 애니멀포스 VS 닌자포스 미래에서 온 메시지\n",
      "레닌그라드 카우보이 미국에 가다\n",
      "흑집사 : 북 오브 더 아틀란틱\n",
      "스쿨 오브 락(樂)\n",
      "쿠엔틴 타란티노 8\n",
      "원피스 : 에피소드 오브 메리 - 또 하나의 동료 이야기\n",
      "세상의 끝에서 커피 한 잔\n",
      "수호지 무림호걸 이운\n",
      "실종: 택시 납치 사건\n",
      "더 하우스 : 악령의 집\n",
      "가을의 전설\n",
      "기적의 팀: 샤페코엔시\n",
      "파티마의 기적\n",
      "한 번도 안 해본 여자(무삭제판)\n",
      "리핑 - 10개의 재앙\n",
      "이스케이프 큐브\n",
      "Mr. 후 아 유\n",
      "벰 : 비컴 휴먼\n",
      "지.아이.조 - 전쟁의 서막\n",
      "탐욕의 제국\n",
      "내 인생의 마지막 변화구\n",
      "데드 라인\n",
      "브릭 맨션: 통제불능 범죄구역\n",
      "브라더 오브 더 이어\n",
      "쌍성계 : 고대 전설의 부활\n",
      "주온 - 원혼의 부활\n",
      "바커스: 슈퍼스타가 될 거야\n",
      "잃어버린 세계를 찾아서 2 : 신비의 섬\n",
      "인디펜던스 데이: 리써전스(부가영상 제공)\n",
      "엄마 바람피게하기\n",
      "우산 속의 세 여자\n",
      "더 렌탈: 소리없는 감시자\n",
      "제트스톰2: 승부조작단\n",
      "러브 러브 프라하\n",
      "피터와 드래곤(패키지상품 : 더빙판 추가증정, 코멘터리+부가영상 제공)\n",
      "아이 엠 샘\n",
      "극장판 바다 탐험대 옥토넛 : 불의 고리 대폭발(패키지: 자막판+더빙판)\n",
      "웨스트 사이드 스토리 (2022)(부가영상 제공)\n",
      "도리를 찾아서(패키지상품 : 더빙판 추가증정, 코멘터리+부가영상  제공)\n",
      "레지던트 이블 4: 끝나지 않은 전쟁 3D(2D 버전)\n",
      "판타스틱 자살 소동\n",
      "학교 가는 길\n",
      "바다 탐험대 옥토넛 어보브 앤 비욘드 : 버드, 옥토경보를 울려라\n",
      "명탐정 코난: 칠흑의 추적자\n",
      "카메라를 멈추면 안 돼! 스핀오프 : 할리우드 대작전\n",
      "그날의 딸들\n",
      "극장판 프리! - 타임리스 메들리 - 약속(자막판)\n",
      "히든 피겨스(부가영상 제공)\n",
      "겨울왕국 2(패키지: 자막판+더빙판+싱어롱+부가영상)\n",
      "데스 센텐스\n",
      "악마가 너의 죽음을 알기 전에\n",
      "언데드 인 커밍\n",
      "스트레인지 월드(패키지: 자막판+더빙판+부가영상)\n",
      "천하영웅 화포수\n",
      "더 프린세스 : 도둑맞은 공주\n",
      "단지 키스, 맛있는 키스\n",
      "봄은 온다\n",
      "스페이스 잼: 새로운 시대(패키지: 자막판+더빙판)\n",
      "미스 페레그린과 이상한 아이들의 집(부가영상 제공)\n",
      "하이 스피드! -프리! 스타팅 데이즈-\n",
      "죽지않는 인간들의 밤(가치봄영화:시청각장애인용)\n",
      "위풍당당 질리 홉킨스(가치봄영화:시청각장애인용)\n",
      "심장소리\n",
      "서치 2(부가영상 제공)\n",
      "스파 나잇\n",
      "아수라:야쿠자의 길\n",
      "극장판 안녕 자두야 : 제주도의 비밀\n",
      "더 수어사이드 스쿼드(부가영상 제공)\n",
      "심장박동조작극\n",
      "알파 독\n",
      "에코 플래닛 3D : 지구 구출 특급 대작전(2D 전용)\n",
      "작전명 씨울프\n",
      "미션 임파서블 : 고스트 프로토콜\n",
      "불곰영웅 밤세: 도둑들의 도시\n",
      "인크레더블 2(기본 패키지상품 : 더빙판+기본부가영상+코멘터리 추가 증정)\n",
      "스타워즈: 깨어난 포스(패키지상품 : 더빙판 추가증정, 부가영상 제공)\n",
      "덤보(패키지: 자막판+더빙판+부가영상)\n",
      "10일간의 원나잇 스탠드\n",
      "마이 리틀 자이언트(패키지상품 : 부가영상+더빙판 추가증정)\n",
      "콰이어트 플레이스 2(세트: 1~2편)\n",
      "에스엑스 테잎\n",
      "[극장판] 여성향 게임의 파멸 플래그밖에 없는 악역 영애로 환생해버렸다…\n",
      "할 수 있는 자가 구하라\n",
      "꾼(가치봄영화:시청각장애인용)\n",
      "샹치와 텐 링즈의 전설(패키지: 자막판+더빙판+부가영상)\n",
      "연애의 기술(감독판)\n",
      "더 셀\n",
      "노크: 낯선 자들의 방문\n",
      "마법천자문 - 대마왕의 부활을 막아라\n",
      "파라노말 다이어리: 클롭힐\n",
      "마다가스카 2(패키지: 자막판+더빙판)\n",
      "당신은 아름답다\n",
      "화양연화(리마스터링)\n",
      "극장판 포켓 몬스터 DP - 디아루가 VS 펄기아 VS 다크라이\n",
      "엣지 오브 투모로우(2.35:1 극장판)\n",
      "미국인 친구\n",
      "어카운턴트(부가영상 제공)\n",
      "파리 에듀케이션\n",
      "블러드타이즈\n",
      "앤트맨과 와스프: 퀀텀매니아(부가영상+코멘터리 제공)\n",
      "노리개(오리지널 버전)\n",
      "포비든 킹덤 - 전설의 마스터를 찾아서\n",
      "화이트 히트\n",
      "나쁜 녀석들 : 포에버(부가영상 제공)\n",
      "아메리칸 파이 3 - 아메리칸 웨딩\n",
      "3일의 휴가(가치봄영화:시청각장애인용)\n",
      "메리다와 마법의 숲(패키지상품 : 더빙판 추가증정)\n",
      "맛있는 섹스 그리고 사랑(무삭제)\n",
      "메가포스군단\n",
      "포드 V 페라리(부가영상 제공)\n",
      "그 남자는 타이타닉을 보고 싶지 않았다\n",
      "꽃미남 연쇄 테러사건\n",
      "적벽대전 1부 - 거대한 전쟁의 시작\n",
      "뒷담화:감독이 미쳤어요\n",
      "키즈모노가타리 I 철혈편\n",
      "바이올렛 에버가든 - 영원과 자동 수기 인형 -\n",
      "원 데이(특별판)\n",
      "인어공주:새로운 모험의 시작\n",
      "전국바사라 극장판: 라스트 파티\n",
      "키즈모노가타리 II 열혈편\n",
      "가디언즈 오브 갤럭시: Volume 3(부가영상+코멘터리 제공)\n",
      "넥스트 골 윈즈(부가영상 제공)\n",
      "[극장판] 청춘 돼지는 외출하는 여동생의 꿈을 꾸지 않는다\n",
      "에이리언: 커버넌트(부가영상 제공)\n",
      "십이야 : 깊고 붉은 열두 개의 밤 Chapter 1\n",
      "남쪽의 제왕\n",
      "AV아이돌\n",
      "찌라시 : 위험한 소문\n",
      "디지몬 어드벤처 라스트 에볼루션 : 인연\n",
      "혹성탈출: 종의 전쟁(부가영상 제공)\n",
      "연공: 안녕, 사랑하는 모든 것\n",
      "혜경궁 홍씨(DnC Live)\n",
      "엄마의 공책(가치봄영화:시청각장애인용)\n",
      "백 투 더 퓨쳐 2\n",
      "더티 댄싱 - 하바나 나이트\n",
      "노아의 방주 2: 새로운 세계로\n",
      "콩: 스컬 아일랜드(부가영상 제공)\n",
      "베일을 쓴 소녀\n",
      "링컨 : 뱀파이어 헌터\n",
      "탈주자\n",
      "나이트메어 앨리(부가영상 제공)\n",
      "라이온 킹 (2019)(자막+더빙+부가영상+싱어롱 자막/더빙+코멘터리 제공)\n",
      "나루토 - 대흥분! 초승달 섬의 애니멀 소동\n",
      "주먹왕 랄프 2: 인터넷 속으로(패키지상품 : 더빙판+부가영상 추가증정)\n",
      "벗어날 탈\n",
      "작은 연못 (2010)\n",
      "마스터마인드\n",
      "야쿠자-피의전쟁\n",
      "낙원 - 파라다이스\n",
      "마틴 에덴\n",
      "날씨의 아이(가치봄영화:시청각장애인용)\n",
      "해무\n",
      "라라걸\n",
      "더 배트맨(부가영상 제공)\n",
      "혜화,동\n",
      "빅매치(가치봄영화:시청각장애인용)\n",
      "타락천사(리마스터링)\n",
      "땡큐 마담 2\n",
      "스코치드 어스: 분노의 추격자\n",
      "인사이드 아웃(패키지상품 : 더빙판 + 부가영상 추가증정)\n",
      "범블비(부가영상 추가증정)\n",
      "해피 피트 2\n",
      "나니아 연대기 - 캐스피언 왕자\n",
      "나의 노래는 멀리멀리\n",
      "와일드 테일즈: 참을 수 없는 순간\n",
      "테스와 보낸 여름\n",
      "루팡 3세 - 바빌론의 황금전설\n",
      "극장판 포켓몬스터 베스트위시 : 비크티니와 흑의 영웅 제크로무\n",
      "27번의 결혼 리허설\n",
      "극장판 가면라이더 vs 파워레인저 슈퍼히어로 대전\n",
      "엘라 벨라 빙고: 친구 찾기 대작전\n",
      "로스트 인 타임\n",
      "강철대오: 구국의 철가방\n",
      "캐리비안의 해적 - 세상의 끝에서\n",
      "나의 올드 오크\n",
      "소림사 무림탐정-취의전장\n",
      "브리짓 존스의 일기 - 열정과 애정\n",
      "서치 2(세트: 1~2편)\n",
      "신비한 동물사전(부가영상 제공)\n",
      "전국 : 천하영웅의 시대\n",
      "킥 애스 2: 겁 없는 녀석들\n",
      "엑스맨: 아포칼립스(부가영상 제공)\n",
      "베를린 호스티지\n",
      "메리 포핀스 리턴즈(패키지: 더빙판+부가영상+코멘터리 추가증정)\n",
      "말할 수 없는 비밀(리마스터링)\n",
      "GP506\n",
      "고고70\n",
      "생츄어리: 마법의 소원나무\n",
      "연상니적상 : 굿 타임 베드 타임\n",
      "악인은 너무 많다 2: 제주 실종사건의 전말\n",
      "킬러 더 머니\n",
      "캡틴 아메리카: 시빌 워(패키지상품 : 더빙판 및 부가영상증정)\n",
      "판타스틱 4 - 실버 서퍼의 위협\n",
      "닥터 스트레인지: 대혼돈의 멀티버스(세트: 닥터스트레인지 1편 포함)\n",
      "베놈 2: 렛 데어 비 카니지(부가영상 제공)\n",
      "크로우 - 구원의 손길\n",
      "리바운드(가치봄영화:시청각장애인용)\n",
      "별처럼 빛나는 너에게 더무비: 일섬일섬량성성\n",
      "터미네이터 2:오리지널\n",
      "섹스 거짓말 그리고 비디오 테이프\n",
      "프리 가이(부가영상 제공)\n",
      "트로픽 썬더\n",
      "반 고흐: 위대한 유산\n",
      "아이언맨 3(자막판)\n",
      "슈퍼 베어\n",
      "카이 : 거울 호수의 전설\n",
      "준벅(리마스터링)\n",
      "슈렉 포에버(패키지: 자막판+더빙판)\n",
      "나노 테러리즘: CIA 비밀요원\n",
      "괜찮아, 울지마\n",
      "신선조 - 낭인\n",
      "론 서바이버\n",
      "앵그리스트맨\n",
      "극장판 귀멸의 칼날: 무한열차편(7일)\n",
      "설리: 허드슨강의 기적(부가영상 제공)\n",
      "테넷(크리스토퍼 놀란 감독 패키지(세트: 테넷, 덩케르크, 배트맨비긴즈, 다크나이트, 다크나이트라이즈, 인셉션))\n",
      "남과 여: 여전히 찬란한\n",
      "터미네이터: 다크 페이트(부가영상 제공)\n",
      "버닝 맨\n",
      "두갈 : 마법의 회전목마\n",
      "[극장판] 청춘 돼지는 책가방 소녀의 꿈을 꾸지 않는다\n",
      "레미제라블: 뮤지컬 콘서트\n",
      "폴라로이드 (2015)\n",
      "비스티걸스(감독판)\n",
      "고스트 킬러 vs 블러디 메리\n",
      "더 도터\n",
      "클리포드 더 빅 레드 독(패키지: 자막판+더빙판)\n",
      "월-E(패키지상품 : 더빙판 추가증정)\n",
      "안녕, 나의 소녀 시절이여\n",
      "뜨거운 녀석들\n",
      "테이크오프: 파도위에 서다\n",
      "머니백(가치봄영화:시청각장애인용)\n",
      "미드소마(감독판)\n",
      "빅샤크4 : 바다공룡 대모험\n",
      "비와 당신의 이야기(가치봄영화:시청각장애인용)\n",
      "삼총사 2013\n",
      "스티븐시걸의 작전명 고스트\n",
      "심야의 FM\n",
      "메멘토(리마스터링)\n",
      "스윙 보트\n",
      "샤잠! 신들의 분노(부가영상 제공)\n",
      "샤크스톰2: 샤크네이도\n",
      "쉐도우 맨\n",
      "좋은 사람(가치봄영화:시청각장애인용)\n",
      "수호지 최강무적 탕륭\n",
      "언더워터(부가영상 제공)\n",
      "빅 히어로(패키지: 자막판+더빙판)\n",
      "베니스 유령 살인사건(세트: 오리엔트 특급 살인+나일강의 죽음+베니스 유령 살인사건)\n",
      "야경:죽음의 택시\n",
      "매드맥스: 분노의 도로\n",
      "은혼 2: 규칙은 깨라고 있는 것\n",
      "미쓰 마마\n",
      "헝거게임 : 판엠의 불꽃(4편 세트 : 헝거게임: 판엠의 불꽃+헝거게임: 캣칭 파이어+헝거게임: 모킹제이+헝거게임: 더 파이널)\n",
      "무방비 도시\n",
      "스파이더맨: 노 웨이 홈 펀버전\n",
      "립반윙클의 신부(스페셜 에디션)\n",
      "라스트 듀얼: 최후의 결투(부가영상 제공)\n",
      "비밀정보원: 인 더 프리즌\n",
      "Mr. 로빈 꼬시기\n",
      "빅미라클\n",
      "하프 넬슨\n",
      "땅에 쓰는 시\n",
      "퍼피 구조대: 더 무비\n",
      "자이언트몽키\n",
      "유령 작가\n",
      "꿀벌 대소동\n",
      "극장판 짱구는 못말려 19기 - 태풍을 부르는 황금 스파이 대작전\n",
      "스파이 지니어스(패키지 : 더빙판+부가영상 추가제공)\n",
      "징기스칸 : 지살령\n",
      "레전드 갱스터2 크레이스 형제\n",
      "몬스터 대학교(패키지상품 : 더빙판 추가증정)\n",
      "G-포스: 기니피그 특공대(더빙판)\n",
      "데스 디파잉: 어느 마술사의 사랑\n",
      "태극권 : 무림7대고수전\n",
      "파이널 데스티네이션 5\n",
      "미녀와 야수(패키지상품 : 더빙판, 부가영상 추가증정)\n",
      "댄스 타운\n",
      "세이빙 MR.뱅크스\n",
      "밀양 아리랑\n",
      "크루즈 패밀리: 뉴 에이지(패키지: 자막판+더빙판+부가영상)\n",
      "크루엘라(패키지: 자막판+더빙판+부가영상)\n",
      "기동전사 건담 SEED FREEDOM\n",
      "마파도 2\n",
      "오션스 13\n",
      "트리스탄 & 이졸데\n",
      "굿나잇 앤 굿럭\n",
      "아내의 애인을 만나다\n",
      "새해전야(가치봄영화:시청각장애인용)\n",
      "바그다드 카페\n",
      "에반게리온 신극장판 : 서\n",
      "원나잇스캔들:모닝애프터\n",
      "킬 미 달링\n",
      "스탠리의 도시락\n",
      "리턴 투 서울\n",
      "철수 영희\n",
      "메가 헤드 샤크\n",
      "노무현과 바보들: 못다한 이야기\n",
      "퍼시잭슨과 괴물의 바다\n",
      "헬보이 2: 골든 아미\n",
      "쿵푸 팬더 2\n",
      "나의 이름\n",
      "트로이(그리스신화)\n",
      "레미: 집 없는 아이\n",
      "저스티스 리그 (2017년 개봉 버전)\n",
      "닌자 거북이 3 : 어메이징 뮤턴트\n",
      "아바타: 물의 길(세트 : 아바타 1~2편)\n",
      "대니쉬 걸(부가영상 제공)\n",
      "기적:그 날의 소비토\n",
      "언더월드 4 : 어웨이크닝\n",
      "겁쟁이 페달: 스페어바이크\n",
      "상하이 상하이\n",
      "위시(패키지: 자막판+더빙판+부가영상+싱어롱)\n",
      "러브 액츄얼리 (크리스마스에디션)\n",
      "다섯 번째 흉추(가치봄영화:시청각장애인용)\n",
      "성룡의 신주쿠 살인사건\n",
      "마일 22\n",
      "버즈 라이트이어(패키지: 자막판+더빙판+코멘터리+부가영상)\n",
      "삼국지 - 용의 부활\n",
      "마다가스카의 펭귄(패키지: 자막판+더빙판)\n",
      "그녀,섹스의시작\n",
      "이스케이프 룸 2: 노 웨이 아웃(세트: 1~2편)\n",
      "모아나(패키지상품 : 더빙판 추가증정, 코멘터리+부가영상 제공)\n",
      "몽마르트 파파\n",
      "카3: 새로운 도전(패키지상품 : 더빙판 추가증정, 코멘터리+부가영상 제공)\n",
      "반지의 제왕 - 반지 원정대_(확장판)(확장판 HD)\n",
      "귀신소리 찾기\n",
      "오즈의 마법사: 요술구두와 말하는 책\n",
      "마이웨이\n",
      "브로큰 서클\n",
      "여배우들의 티타임\n",
      "탐욕의 별\n",
      "비.에이.패스: 불륜의늪\n",
      "다이노 어드벤처: 육해공 킬러 엘리트\n",
      "제5침공\n",
      "나의 딸, 나의 누나\n",
      "중환영웅(리마스터링)\n",
      "라야와 마지막 드래곤(패키지: 자막판+더빙판+부가영상)\n",
      "카 2(패키지상품 : 더빙판 추가증정)\n",
      "모사드: 인질구출작전\n",
      "정글 크루즈(패키지: 자막판+더빙판+부가영상)\n",
      "아기공룡 둘리 : 얼음별 대모험 리마스터링\n",
      "플래시(세트: 플래시+배트맨)\n",
      "버킷 리스트 - 죽기 전에 꼭 하고 싶은 것들\n",
      "세월: 라이프 고즈 온\n",
      "콜 오브 와일드(부가영상 제공)\n",
      "원스 어폰 어 타임... 인 할리우드(부가영상 제공)\n",
      "계춘할망(가치봄영화:시청각장애인용)\n",
      "메가마인드(패키지: 자막판+더빙판)\n",
      "말임씨를 부탁해(가치봄영화:시청각장애인용)\n",
      "문라이즈 킹덤\n",
      "스폰지밥3D(2D)\n",
      "프레셔스 카고 : 프로 범죄단\n",
      "호빗 : 뜻밖의 여정\n",
      "극장판 포켓 몬스터 DP - 환영의 패왕 조로아크\n",
      "탑캣 : 뉴욕 대소동\n",
      "공주와 개구리(패키지상품 : 더빙판 추가증정)\n",
      "더 게이트\n",
      "영화의 거리(가치봄영화:시청각장애인용)\n",
      "마음이 2\n",
      "가치 캅시다\n",
      "아틀란틱 림\n",
      "더 퍼지:거리의 반란\n",
      "닌자 거북이 2 : 어메이징 닌자\n",
      "에이리언 VS. 프레데터 2\n",
      "꼬마영웅 경찰차 프로디2\n",
      "사보타지(무삭제)\n",
      "밤쉘: 세상을 바꾼 폭탄선언(부가영상 제공)\n",
      "모뉴먼츠 맨 : 세기의 작전\n",
      "가여운 것들(부가영상 제공)\n",
      "신 에반게리온 극장판 세트:신극장판 서, 파, Q 포함\n",
      "바비(부가영상 제공)\n",
      "이터널 메모리\n",
      "은밀하게 위대하게(확장판)(확장판)\n",
      "더 울프 오브 월 스트리트\n",
      "안녕,헤이즐\n",
      "얼굴없는 보스 : 못다한 이야기 감독판\n",
      "라푼젤(패키지: 자막판+더빙판)\n",
      "에반게리온 신극장판 : 파\n",
      "드론 컨트롤러\n",
      "킹스맨: 퍼스트 에이전트(부가영상 제공)\n",
      "무간지옥\n",
      "삼총사 2014\n",
      "극장판 도라에몽:진구의 남극 꽁꽁 대모험\n",
      "글래스(부가영상 제공)\n",
      "소울(패키지: 자막판+더빙판+코멘터리+부가영상)\n",
      "애프터 웨딩 인 뉴욕\n",
      "이웃집에 신이 산다\n",
      "지슬\n",
      "어벤져스: 엔드게임(패키지: 자막판+더빙판+코멘터리+부가영상)\n",
      "뉴 뮤턴트(부가영상+코멘터리 제공)\n",
      "알피니스트 - 어느 카메라맨의 고백\n",
      "트랜스포머: 비스트의 서막(세트: 트랜스포머: 비스트의 서막+범블비)\n",
      "술이 깨면 집에가자(가치봄영화:시청각장애인용)\n",
      "걸스 온 탑 2\n",
      "찬실이는 복도 많지(가치봄영화:시청각장애인용)\n",
      "굿 다이노(패키지상품 : 더빙판 추가증정, 코멘터리+부가영상 제공)\n",
      "강시선생 - 일미도인\n",
      "킹스맨: 골든 서클(부가영상 제공)\n",
      "미싱타는 여자들\n",
      "포화 속으로\n",
      "엑스맨: 다크 피닉스(부가영상 제공)\n",
      "나쁜놈은 죽는다(무삭제 특별판)\n",
      "숏 컷\n",
      "불릿 트레인(부가영상 제공)\n",
      "범털2 : 쩐의 전쟁\n",
      "[극장판] 코드기아스: 부활의 를르슈\n",
      "내니 맥피 2 - 유모와 마법소동\n",
      "군도:민란의 시대\n",
      "아수라도\n",
      "엔칸토: 마법의 세계(패키지: 자막판+더빙판+싱어롱+부가영상)\n",
      "몬스터 싱어: 매직 인 파리\n",
      "오늘부터 댄싱퀸\n",
      "행오버2\n",
      "나의 피투성이 연인(가치봄영화:시청각장애인용)\n",
      "UFO 스케치\n",
      "알이씨REC\n",
      "19\n",
      "달콤한 백수와 사랑 만들기\n",
      "엘리멘탈(패키지: 자막판+더빙판+부가영상+코멘터리)\n",
      "이니셰린의 밴시(부가영상 제공)\n",
      "행복한 엠마, 행복한 돼지 그리고 남자\n",
      "안녕, 티라노 : 영원히, 함께\n",
      "닌자보이 란타로 극장판 : 시끌벅적 방학숙제 대소동!\n",
      "인투 더 미러\n",
      "잭애스3D(2D 버전)\n",
      "화도대전\n",
      "뱃 인플루언스\n",
      "잃어버린 아이들\n",
      "부트 캠프\n",
      "한 번 죽어봤다\n",
      "다이노 슈퍼게이터\n",
      "콜 미 바이 유어 네임(부가영상 제공)\n",
      "극장판 헌터X헌터 : 더 라스트 미션\n",
      "익스트랙션데이\n",
      "마치다군의 세계\n",
      "신극장판 이니셜 D 레전드 3 -몽현-\n",
      "인사이드 잡\n",
      "어거스트 : 가족의 초상\n",
      "마피아 게임\n",
      "화양 : 당대최고수전\n",
      "스크림: 더 파이널\n",
      "명탐정 코난 : 감벽의 관\n",
      "섹스킬\n",
      "부니베어:나무 도둑의 습격\n",
      "블루 서멀, 같은 하늘을 보고 싶어\n",
      "마리아 칼라스: 세기의 디바\n",
      "극장판 짱구는 못말려 20기 - 태풍을 부르는 나와 우주의 프린세스\n",
      "간츠 - 퍼펙트 앤서\n",
      "미이라:고대전설의 부활\n",
      "어부바(가치봄영화:시청각장애인용)\n",
      "할로윈: 살인마의 탄생\n",
      "심슨 가족, 더 무비\n",
      "우드쇼크\n",
      "더 버닝 씨\n",
      "레지던트 이블 5 : 최후의 심판 3D(2D 버전)\n",
      "스콜피온 킹\n",
      "환상의 마로나\n",
      "더 보이 2: 돌아온 브람스\n",
      "벤데타: 피의복수\n",
      "신세계로부터(가치봄영화:시청각장애인용)\n",
      "레프트 비하인드: 휴거의 시작\n",
      "신영웅문 : 천년의 비밀\n",
      "건파우더 밀크셰이크\n",
      "외계 대 침공\n",
      "극장판 포켓몬스터 베스트위시 : 신의 속도 게노세크트, 뮤츠의 각성\n",
      "앨빈과 슈퍼밴드 3\n",
      "플레이그라운드\n",
      "소리에 놀라지 않는 사자처럼\n",
      "안녕, 소중한 사람\n",
      "스티브 잡스 : 더 로스트 인터뷰\n",
      "탐정사무소 - 그놈의 얼굴\n",
      "강철비2: 정상회담(확장판)\n",
      "몬스터 vs 에이리언(패키지: 자막판+더빙판)\n",
      "별을 쫓는 아이: 아가르타의 전설\n",
      "소림사 무림탐정 : 황제의 옥패\n",
      "팬(피터팬- 아무도 몰랐던 이야기)\n",
      "열세살, 수아\n",
      "쥬만지: 넥스트 레벨(부가영상 제공)\n",
      "나이트 오브 더 데드\n",
      "더 넌 2(부가영상 제공)\n",
      "극장판 포켓몬스터 AG : 포켓몬레인저와 바다의 왕자 마나피\n",
      "거울나라의 앨리스(코멘터리+부가영상 제공)\n",
      "런던 시계탑 밑에서 사랑을 찾을 확률\n",
      "얼라이드(부가영상 포함)\n",
      "스파이더맨: 파 프롬 홈(부가영상 제공)\n",
      "나는 섹스 중독자\n",
      "타워블록\n",
      "마인드 유니버스(가치봄영화:시청각장애인용)\n",
      "실종:사라진아내\n",
      "시,나리오\n",
      "CJ7 - 장강7호\n",
      "이터널스(패키지: 자막판+더빙판+코멘터리+부가영상)\n",
      "백설공주:사라진 아빠를 찾아서\n",
      "할복 : 사무라이의 죽음\n",
      "로빈슨 가족(패키지: 자막판+더빙판)\n",
      "블랙 아담(부가영상 제공)\n",
      "[극장판] 그날 본 꽃의 이름을 우리는 아직 모른다\n",
      "피라냐 3DD(2D버전)\n",
      "호빗 : 스마우그의 폐허(2.35:1 극장판)\n",
      "죽음의 트럭\n",
      "네 이웃의 아내를 탐하지 마라\n",
      "프리다의 그해 여름\n",
      "주토피아(패키지상품 : 더빙판 추가증정)\n",
      "더 비지터: 리턴즈\n",
      "해적왕의 황금나침반\n",
      "홀리 에어\n",
      "권법 : 쿵푸의 신\n",
      "고질라 VS. 콩(코멘터리 및 부가영상 제공)\n",
      "나의 PS 파트너\n",
      "서유기 : 모험의 시작(광둥어 더빙)\n",
      "살인자의 기억: 복수\n",
      "더 크리미널 마인드: 공공의 적\n",
      "원나잇온리\n",
      "데스 노트 - 라스트 네임\n",
      "히든카드\n",
      "극장판 포켓몬스터 베스트위시 : 큐레무 VS 성검사 케르디오\n",
      "앵그리 버드 2: 독수리 왕국의 침공(부가영상 제공)\n",
      "존레논 비긴즈-노웨어보이\n",
      "타이거스 네스트: 호랑이의 보디가드\n",
      "18 : 우리들의 성장 느와르\n",
      "안나푸르나: 비욘드 써밋\n",
      "세인트 아가타\n",
      "강철비2: 정상회담(가치봄영화:시청각장애인용)\n",
      "사라진 밤(가치봄영화:시청각장애인용)\n",
      "코난 : 암흑의 시대\n",
      "전망 좋은 방\n",
      "극장판 암살교실: 365일의 시간\n",
      "블레이드 러너(파이널컷)\n",
      "해리 포터와 죽음의 성물 - 2부(7-2편, 자막판)\n",
      "블랙 팬서(패키지상품 : 더빙판 + 부가영상 + 코멘터리 추가증정)\n",
      "조폭 마누라 3\n",
      "지.아이.조 2(세트: 1~2편+스네이크 아이즈: 지.아이.조)\n",
      "용의자X적 헌신\n",
      "도쿄 타워\n",
      "나의 붉은 고래\n",
      "몬스터 랜드\n",
      "사대명포 3 : 종극대결전\n",
      "정글북 (2016)(패키지상품 : 더빙판 추가증정, 부가영상 제공)\n",
      "스누피:더 피너츠 무비\n",
      "블랙 팬서: 와칸다 포에버(부가영상+코멘터리 제공)\n",
      "비르:위대한 전사\n",
      "앨빈과 슈퍼밴드 2\n",
      "복면 달호\n",
      "조이랜드\n",
      "금의위: 14검의 비밀\n",
      "한 솔로: 스타워즈 스토리(부가영상 제공)\n",
      "바람 피기 좋은 날\n",
      "베스트 키드(2010)\n",
      "극장판 짱구는 못말려 18기 - 초시공! 태풍을 부르는 나의 신부\n",
      "나일 강의 죽음(부가영상 제공)\n",
      "나는 전설이다(극장판)\n",
      "레이첼, 결혼하다\n",
      "존 카터: 바숨 전쟁의 서막(패키지: 자막판+더빙판)\n",
      "피원에이치 : 새로운 세계의 시작\n",
      "모던 보이\n",
      "장화신은 고양이: 끝내주는 모험(패키지: 자막판+더빙판)\n",
      "파라노말 액티비티 4\n",
      "모비우스(부가영상 제공)\n",
      "우주전쟁: 화성을 지켜라\n",
      "미쓰백(가치봄영화:시청각장애인용)\n",
      "보통의 우주는 찬란함을 꿈꾸는가?\n",
      "컬러풀 웨딩즈\n",
      "블러드 골드 트레저 헌터\n",
      "더 시크릿 하우스\n",
      "저지 드레드\n",
      "신데렐라(2015 패키지상품 : 더빙판 추가증정)\n",
      "너를 부르는 시간\n",
      "데스 노트 - L: 새로운 시작\n",
      "신비한 동물들과 덤블도어의 비밀(부가영상 제공)\n",
      "카 잭\n",
      "은밀한 유혹(가치봄영화:시청각장애인용)\n",
      "수호지 천하제패 선찬\n",
      "맘마미아!2\n",
      "스타 워즈: 클론 전쟁\n",
      "2046(리마스터링)\n",
      "로그 원: 스타워즈 스토리(패키지상품 : 더빙판 추가증정,부가영상 제공)\n",
      "에반게리온 신극장판 : Q\n",
      "네루다\n",
      "7년의 밤(가치봄영화:시청각장애인용)\n",
      "논스톱: 다마스커스 타겟\n",
      "심야식당2(가치봄영화:시청각장애인용)\n",
      "스타워즈: 라이즈 오브 스카이워커(패키지 : 더빙판+부가영상 추가제공)\n",
      "성난 화가(무삭제판)\n",
      "수호지 - 천하대인\n",
      "초능력 소년사건\n",
      "극장판 짱구는 못말려 21기 - 엄청 맛있어! B급 음식 서바이벌!\n",
      "원피스 극장판 제트\n",
      "문프린세스: 문에이커의 비밀\n",
      "킹 오브 프리즘\n",
      "리틀 프린세스 소피아: 엘레나와 비밀의 아발로 왕국(패키지: 자막판+더빙판)\n",
      "인민을 위해 복무하라(가치봄영화:시청각장애인용)\n",
      "노다메 칸타빌레 Vol.1\n",
      "적과의 동침 (2020)\n",
      "극장판 짱구는 못말려 22기 - 정면승부! 로봇아빠의 역습\n",
      "더 마블스(부가영상+코멘터리 제공)\n",
      "밤의 해변에서 혼자(가치봄영화:시청각장애인용)\n",
      "워리어스 레인보우 2 : 최후의 결전\n",
      "무간도 3 - 종극무간\n",
      "분신사바: 소녀의 저주\n",
      "살인 이론\n",
      "3개의 얼굴들\n",
      "23 아이덴티티(부가영상 제공)\n",
      "팀 버튼의 크리스마스 악몽(패키지: 자막판+더빙판)\n",
      "어린왕자\n",
      "그런날 사이에 어떤날\n",
      "그녀의 가족은 잘못이 없어\n",
      "파라노말 액티비티 : 도쿄나이트\n",
      "어웨이큰 : 원혼의부활\n",
      "극장판 뛰뛰빵빵 구조대 미션 : 둥둥이를 구하라!\n",
      "드래곤 네스트: 평화 기사단 VS 블랙 드래곤(2D)\n",
      "성항기병 2\n",
      "아쿠아맨과 로스트 킹덤(부가영상 제공)\n",
      "원더 우먼 1984(부가영상 제공)\n",
      "그린 랜턴: 반지의 선택\n",
      "우주전쟁 : 지구 최후의 날\n",
      "극장판 명탐정 코난:탐정들의 진혼가\n",
      "다크 워터스\n",
      "더 파이트 클럽\n",
      "블랙 위도우(패키지: 자막판+더빙판+부가영상)\n",
      "양말요정 휴고의 대모험\n",
      "눈먼 자들의 도시\n",
      "극장판 파워레인저:캡틴포스 VS 미라클포스 199 히어로 대결전\n",
      "남쪽으로 간다(+ <지난여름, 갑자기> 통합 극장판)\n",
      "뮤직 앤 리얼리티\n",
      "좀비2 : 인도\n",
      "해피 해피 레스토랑\n",
      "위대한 계약: 파주, 책, 도시\n",
      "너의 새는 노래할 수 있어\n",
      "베요네타 - 블러디 페이트\n",
      "네 마음을 열어줘\n",
      "러브 라이브! 선샤인!! 더 스쿨 아이돌 무비 오버 더 레인보우\n",
      "트랜스포머: 최후의 기사(부가영상 제공)\n",
      "조조 래빗(부가영상 제공)\n",
      "베놈(부가영상 제공)\n",
      "증인(가치봄영화:시청각장애인용)\n",
      "나이트 폴\n",
      "세인트 주디\n",
      "다이노 헌터:티렉스VS파키리노 대격돌\n",
      "머슴 바울\n",
      "몽키킹:손오공의 탄생\n",
      "블랑섹의 기이한 모험\n",
      "본 투 드라이브\n",
      "래미와 친구들 : 푸른푸른 초원의 위기\n",
      "낮에는 덥고 밤에는 춥고(가치봄영화:시청각장애인용)\n",
      "리딕 - 헬리온 최후의 빛\n",
      "친구2\n",
      "수영장으로 간 남자들\n",
      "상류사회(확장판)\n",
      "좋은 놈, 나쁜 놈, 이상한 놈\n",
      "내셔널 트레져: 비밀의 책\n",
      "어벤져스: 에이지 오브 울트론(패키지상품 : 더빙판 + 부가영상 추가증정)\n",
      "듄: 파트 2(부가영상 제공)\n",
      "피케이: 별에서 온 얼간이 (감독판)(감독판)\n",
      "금지된 장난\n",
      "퍼펙트 킬러: 킬러 인 더 다크\n",
      "타임러쉬\n",
      "애드 아스트라(부가영상 제공)\n",
      "한말풍운과 민충정공\n",
      "로그 인 벨지움\n",
      "꼬마 마법사 레미 : 견습 마법사를 찾아서\n",
      "라이더스 오브 저스티스\n",
      "삼진그룹 영어토익반(가치봄영화:시청각장애인용)\n",
      "앤트맨과 와스프(패키지상품 : 부가영상+코멘터리+더빙판 추가증정)\n",
      "신차원! 짱구는 못말려 더 무비 초능력 대결전 ~날아라 수제김밥~(가치봄영화:시청각장애인용)\n",
      "킹 오브 프리즘 프라이드 더 히어로\n",
      "극장판 짱구는 못말려 15기- 태풍을 부르는 노래하는 엉덩이 폭탄!\n",
      "자우림, 더 원더랜드\n",
      "컴백 트레일\n",
      "자바히트:살인면허\n",
      "극장판 짱구는 못말려 23기 - 나의 이사 이야기 선인장 대습격\n",
      "마녀 배달부 키키\n",
      "몬스터 주식회사(패키지상품 : 더빙판 추가증정)\n",
      "피아니스트의 마지막 인터뷰\n",
      "알 카포네: 스카페이스의 전설\n",
      "극장판 파워레인저 다이노포스VS고버스터즈 공룡 대결전! ~안녕, 영원한 친구여~\n",
      "서울의 봄(가치봄영화:시청각장애인용)\n",
      "이웃사촌(가치봄영화:시청각장애인용)\n",
      "아메리칸 섹스파티\n",
      "극장판 미니특공대: 공룡왕 디노\n",
      "신의 은총으로\n",
      "명탐정 피카츄(패키지: 자막판+더빙판)\n",
      "퍼펙트 블루\n",
      "신선조 - 혈풍\n",
      "섀도우 헌터스 : 뼈의 도시\n",
      "극장판 금빛 모자이크: 땡큐!!\n",
      "반지의 제왕: 왕의 귀환_(확장판)(확장판 HD)\n",
      "명탐정 코난: 베이커가의 망령\n",
      "19곰 테드 2(부가영상 제공)\n",
      "고스트 라이더 3D : 복수의 화신\n",
      "블랙 앤 화이트: 던 오브 저스티스\n",
      "러시: 스트리트 레이서\n",
      "와일드 와일드 웨스트\n",
      "종이비행기\n",
      "어메이징 스파이더맨 2(2.35:1 극장판)\n",
      "데드워터\n",
      "스타워즈: 라스트 제다이(패키지상품 : 더빙판 + 부가영상 + 코멘터리 추가증정)\n",
      "7번방의 선물(가치봄영화:시청각장애인용)\n",
      "차박: 살인과 낭만의 밤\n",
      "써니(감독판)\n",
      "오케이 마담(가치봄영화:시청각장애인용)\n",
      "스파이더맨: 홈커밍(부가영상 제공)\n",
      "미운 오리 새끼\n",
      "어제 뭐 먹었어? - 극장판\n",
      "나우 이즈 굿\n",
      "가필드 - 마법의 샘물\n",
      "고, 보이즈!: 마지막 잎새 사수 프로젝트\n",
      "마지막선물...귀휴\n",
      "상간녀 살인사건\n",
      "알라딘(패키지: 자막판+더빙판+싱어롱+부가영상)\n",
      "언더월드 - 라이칸의 반란\n",
      "판타스틱 4(2015)\n",
      "명탐정 코난: 전율의 악보\n",
      "하이재킹(가치봄영화:시청각장애인용)\n",
      "윈드 리버(감독판)\n",
      "국제시장(본편)\n",
      "'개그' 더 크라운\n",
      "오! 문희(가치봄영화:시청각장애인용)\n",
      "스케어리 스토리: 어둠의 속삭임\n",
      "4.4.4.\n",
      "백 투더 씨\n",
      "노매드랜드(제작기외 부가영상 제공)\n",
      "검은 숲 속으로\n",
      "어메이징 모리스\n",
      "태양을 쏴라(무삭제판)\n",
      "사무라이 픽션 - 적영\n",
      "예스 맨\n",
      "헌티드 맨션(부가영상 제공)\n",
      "캡틴 마블(패키지:더빙판+부가영상+코멘터리 추가제공)\n",
      "캐리비안의 해적 4 - 낯선 조류\n",
      "마이펫의 이중생활2\n",
      "설\n",
      "다찌마와 리 - 악인이여 지옥행 급행열차를 타라!\n",
      "말레피센트 2(패키지 : 자막+더빙+부가영상 제공)\n",
      "사이보그 프린세스\n",
      "라이어 라이어\n",
      "고스트버스터즈: 오싹한 뉴욕(부가영상 제공)\n",
      "극장판 도라에몽: 진구의 우주영웅기~스페이스 히어로즈~\n",
      "강시선생2 : 강시가족\n",
      "호두까기 인형과 4개의 왕국(패키지상품:더빙판+부가영상 추가제공)\n",
      "하이 스쿨 뮤지컬: 졸업반(패키지상품 : 더빙판 추가증정)\n",
      "크레이지 컴페티션\n",
      "더블 타겟\n",
      "더 메뉴(부가영상 제공)\n",
      "살인자의 스토커\n",
      "몬스터 신부: 101번째 프로포즈\n",
      "토이 스토리 3(패키지상품 : 더빙판 추가증정)\n",
      "그림자들의 섬\n",
      "바후발리: 더 비기닝\n",
      "DC 리그 오브 슈퍼-펫(패키지: 자막판+더빙판)\n",
      "명탐정 코난 : 에피소드 원 - 작아진 명탐정\n",
      "장강 7호 : 내친구 마법요정\n",
      "71: 벨파스트의 눈물\n",
      "시체가 돌아왔다(가치봄영화:시청각장애인용)\n",
      "파이어프루프 - 사랑의 도전\n",
      "국가대표2\n",
      "섹스 앤 퓨리\n",
      "월드워Z\n",
      "작은 아씨들(부가영상 제공)\n",
      "디어 마이 지니어스\n",
      "공작부인: 세기의 스캔들\n",
      "튜브펫 주식회사\n",
      "비밀의 정원(가치봄영화:시청각장애인용)\n",
      "씬 레드 라인\n",
      "언더더씨: 마법 산호초를 찾아서\n",
      "엽문 2\n",
      "바다 탐험대 옥토넛 시즌4 : 더 파이널\n",
      "스위니 토드: 어느 잔혹한 이발사 이야기\n",
      "니모를 찾아서(패키지상품 : 더빙판 추가증정 - 2D버전)\n",
      "어깨너머의 연인\n",
      "코코순이\n",
      "천재강아지 미스터 피바디\n",
      "조선명탐정: 각시투구꽃의 비밀\n",
      "미이라(부가영상 제공)\n",
      "바니 버디\n",
      "컴 투 대디 : 30년만의 재회\n",
      "철암계곡의 혈투\n",
      "메이크 유어 무브\n",
      "빌리 엘리어트 뮤지컬 라이브\n",
      "로건(부가영상 제공)\n",
      "애나벨 집으로(패키지상품: 애나벨 1~2편 추가제공)\n",
      "민족\n",
      "마브카: 숲의 노래\n",
      "지옥만세(가치봄영화:시청각장애인용)\n",
      "탑건: 매버릭(부가영상 제공)\n",
      "아바타(리마스터링)\n",
      "위자 : 저주의 시작\n",
      "코끼리와 나비\n",
      "켈리 갱\n",
      "라스트 탱고\n",
      "알투비:리턴투베이스\n",
      "임금님의 사건수첩(가치봄영화:시청각장애인용)\n",
      "부기우기 : 상위 1%의 섹스\n",
      "세션: 이 남자가 사랑하는 법\n",
      "데드풀2: 순한 맛\n",
      "극장판 파워레인저 트레인포스VS 다이노포스 THE MOVIE\n",
      "엘리트 스쿼드 2\n",
      "극장판 바다 탐험대 옥토넛 : 해저동굴 대탈출(패키지: 자막판+더빙판)\n",
      "시애틀의 잠 못 이루는 밤\n",
      "토르: 라그나로크(패키지상품 : 더빙판,코멘터리+부가영상 추가증정)\n",
      "죽어도 좋은 경험\n",
      "1942: 언노운 배틀\n",
      "부니베어:로거빅 컴백홈 프로젝트\n",
      "해리 포터와 불사조 기사단(5편)\n",
      "리틀 프린세스 소피아: 신비한 섬(패키지상품 : 더빙판 추가증정)\n",
      "오즈 그레이트 앤드 파워풀(자막판)\n",
      "미녀파이터: 그녀들의 전쟁\n",
      "사랑과 전쟁: 열두 번째 남자\n",
      "미드소마(일반판)\n",
      "아이를 위한 아이(가치봄영화:시청각장애인용)\n",
      "더 터닝\n",
      "엔딩 노트\n"
     ]
    }
   ],
   "source": [
    "for i in names:\n",
    "    print(i)"
   ]
  },
  {
   "cell_type": "code",
   "execution_count": 158,
   "metadata": {},
   "outputs": [],
   "source": [
    "response = requests.get(url+'더 레이디'+'+장르')\n",
    "html = BeautifulSoup(response.text, 'html.parser')"
   ]
  },
  {
   "cell_type": "code",
   "execution_count": 159,
   "metadata": {},
   "outputs": [
    {
     "data": {
      "text/plain": [
       "True"
      ]
     },
     "execution_count": 159,
     "metadata": {},
     "output_type": "execute_result"
    }
   ],
   "source": [
    "'개요' in html.select('.info_group')[0].text"
   ]
  },
  {
   "cell_type": "code",
   "execution_count": 165,
   "metadata": {},
   "outputs": [
    {
     "data": {
      "text/plain": [
       "[]"
      ]
     },
     "execution_count": 165,
     "metadata": {},
     "output_type": "execute_result"
    }
   ],
   "source": [
    "genre"
   ]
  },
  {
   "cell_type": "code",
   "execution_count": 164,
   "metadata": {},
   "outputs": [],
   "source": [
    "genre = []"
   ]
  },
  {
   "cell_type": "code",
   "execution_count": 195,
   "metadata": {},
   "outputs": [
    {
     "data": {
      "text/plain": [
       "[['LA 대지진', ' 개요 액션미국87분 '], ['이름없는 새', ' 개요 액션미국87분 ']]"
      ]
     },
     "execution_count": 195,
     "metadata": {},
     "output_type": "execute_result"
    }
   ],
   "source": [
    "genre"
   ]
  },
  {
   "cell_type": "code",
   "execution_count": null,
   "metadata": {},
   "outputs": [],
   "source": [
    "# 너무 오래 걸림\n",
    "genre = []\n",
    "for i in tqdm(none_genre):\n",
    "    response = requests.get(url+i[0]+' 장르')\n",
    "    if response.status_code == 200:\n",
    "        html = BeautifulSoup(response.text, 'html.parser')\n",
    "        table = html.select('.info_group')\n",
    "        \n",
    "        for j in table:\n",
    "            if '개요' in j.text:\n",
    "                genre.append([i[0], j.text.split(',')[0]])\n",
    "                time.sleep(5)\n",
    "                break\n",
    "\n",
    "    else:\n",
    "        print('error', i[0])\n",
    "        # break"
   ]
  },
  {
   "cell_type": "code",
   "execution_count": 143,
   "metadata": {},
   "outputs": [
    {
     "data": {
      "text/plain": [
       "['더 레이디',\n",
       " '8.81',\n",
       " '2012',\n",
       " '132분',\n",
       " '15세 관람가',\n",
       " '뤽 베송',\n",
       " '양자경, 데이빗 듈리스, 조나단 우드하우스, 베네딕 웡, 윌리엄 홉, 사하작 본다나킷, 조나단 래갯, 수잔 울드릿지',\n",
       " '소개한 남자의 아내이자 두 아이의 엄마로 영국에서 평범한 삶을 살던 아웅 산 수 치는 위독한 어머니의 병간호를 위해 미얀마로 돌아간다. 하지만 오랜만에 찾은 고국에서 자유를 탄압받고 있는 끔찍한 상황을 목격하게 되고, 자신을 지지하는 국민들의 바람을 받아들여 아버지가 못다 이룬 조국의 민주화를 실현시키기로 결심한다. 그러나 독재적인 군사정권에 의해 오히려 가택연금을 당하는 신세가 된다. 외부와 차단된 길고 외로운 나날이 계속되던 그녀에게 남편이 암에 걸려 죽음을 앞두고 있다는 소식이 전해진다. 그녀만을 바라보며 희망을 보는 국민들과 사랑하는 남편의 마지막 모습, 둘 중에 하나만 선택해야 하는 가혹한 현실 앞에서 지금껏 꿋꿋하게 잘 버텨왔던 그녀의 마음이 처음으로 흔들리기 시작하는데……']"
      ]
     },
     "execution_count": 143,
     "metadata": {},
     "output_type": "execute_result"
    }
   ],
   "source": [
    "none_genre[2]"
   ]
  },
  {
   "cell_type": "code",
   "execution_count": null,
   "metadata": {},
   "outputs": [],
   "source": []
  },
  {
   "cell_type": "code",
   "execution_count": null,
   "metadata": {},
   "outputs": [],
   "source": []
  },
  {
   "cell_type": "code",
   "execution_count": null,
   "metadata": {},
   "outputs": [],
   "source": [
    "html = BeautifulSoup(response.text, 'html.parser')\n",
    "html\n",
    "# soup1 = html.select('#app div div div div') # 시놉시스\n",
    "# soup2 = html.select('#app div div div div .wiki-paragraph')"
   ]
  },
  {
   "cell_type": "code",
   "execution_count": 99,
   "metadata": {},
   "outputs": [
    {
     "data": {
      "text/plain": [
       "' 장르 액션, 범죄 '"
      ]
     },
     "execution_count": 99,
     "metadata": {},
     "output_type": "execute_result"
    }
   ],
   "source": [
    "html.select('.info_group')[2].text"
   ]
  },
  {
   "cell_type": "code",
   "execution_count": 84,
   "metadata": {},
   "outputs": [
    {
     "name": "stdout",
     "output_type": "stream",
     "text": [
      "9.31 2021 103분 전체 관람가\n"
     ]
    }
   ],
   "source": [
    "print(score, year, time, age)"
   ]
  },
  {
   "cell_type": "code",
   "execution_count": 94,
   "metadata": {},
   "outputs": [
    {
     "name": "stdout",
     "output_type": "stream",
     "text": [
      "감독쿄고쿠 타카히코 출연박영남, 김환진, 강희선, 여민정, 정유미, 정혜옥, 강새봄, 시영준 소개아이들의 낙서가 사라져 붕괴 위기에 처한 낙서왕국은낙서 에너지를 모으기 위해 지구 침공을 시작한다.낙서왕국의 위험한 작전을 막기 위해지상의 용사로 선택 받은 짱구는그림에 생명을 불어넣는 ‘미라클 크레용’을 얻게 된다.쓰윽 쓰윽~ 그려 그려~!짱구가 미라클 크레용으로 그림을 그리자브리프, 가짜 이슬이 누나, 부리부리 용사가스케치북 밖으로 튀어나오는데..!과연, 크레용 용사 짱구는 낙서 용사들과 함께위험에 빠진 떡잎마을과 세계를 구할 수 있을까?!\n"
     ]
    }
   ],
   "source": [
    "print(director, actor, synopsis)"
   ]
  }
 ],
 "metadata": {
  "kernelspec": {
   "display_name": "Python 3",
   "language": "python",
   "name": "python3"
  },
  "language_info": {
   "codemirror_mode": {
    "name": "ipython",
    "version": 3
   },
   "file_extension": ".py",
   "mimetype": "text/x-python",
   "name": "python",
   "nbconvert_exporter": "python",
   "pygments_lexer": "ipython3",
   "version": "3.10.9"
  }
 },
 "nbformat": 4,
 "nbformat_minor": 2
}
