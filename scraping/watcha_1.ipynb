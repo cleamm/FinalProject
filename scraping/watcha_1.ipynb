{
 "cells": [
  {
   "cell_type": "markdown",
   "metadata": {},
   "source": [
    "# 왓챠피디아"
   ]
  },
  {
   "cell_type": "code",
   "execution_count": 2,
   "metadata": {},
   "outputs": [],
   "source": [
    "import requests\n",
    "from bs4 import BeautifulSoup\n",
    "import pandas as pd\n",
    "import re\n",
    "import numpy as np\n",
    "from tqdm import tqdm"
   ]
  },
  {
   "cell_type": "code",
   "execution_count": 85,
   "metadata": {},
   "outputs": [],
   "source": [
    "from bs4 import BeautifulSoup\n",
    "from selenium import webdriver\n",
    "import re\n",
    "wd = webdriver.Chrome()"
   ]
  },
  {
   "cell_type": "code",
   "execution_count": 87,
   "metadata": {},
   "outputs": [],
   "source": [
    "movie = '아이언맨'\n",
    "url = f'https://pedia.watcha.com/ko-KR/searches/movies?query={movie}'\n",
    "wd.get(url)"
   ]
  },
  {
   "cell_type": "code",
   "execution_count": 88,
   "metadata": {},
   "outputs": [],
   "source": [
    "try:\n",
    "    wd.find_element('css selector','#root > div.KrZlw > section > section > section > section.JeeFJ.uTWyO > div > button > span').click()\n",
    "except:\n",
    "    pass\n",
    "wd.find_element('css selector', '#root > div.KrZlw > section > section > section > section.JeeFJ.uTWyO > ul > li:nth-child(1)').click()"
   ]
  },
  {
   "cell_type": "code",
   "execution_count": 89,
   "metadata": {},
   "outputs": [],
   "source": [
    "wd.back() # 뒤로가기"
   ]
  },
  {
   "cell_type": "code",
   "execution_count": 81,
   "metadata": {},
   "outputs": [
    {
     "ename": "WebDriverException",
     "evalue": "Message: disconnected: not connected to DevTools\n  (failed to check if window was closed: disconnected: not connected to DevTools)\n  (Session info: chrome=126.0.6478.182)\nStacktrace:\n\tGetHandleVerifier [0x00007FF7AFC5EEB2+31554]\n\t(No symbol) [0x00007FF7AFBD7EE9]\n\t(No symbol) [0x00007FF7AFA9872A]\n\t(No symbol) [0x00007FF7AFA7E90F]\n\t(No symbol) [0x00007FF7AFA7F47F]\n\t(No symbol) [0x00007FF7AFA98D53]\n\t(No symbol) [0x00007FF7AFA6D47C]\n\t(No symbol) [0x00007FF7AFB1C4F7]\n\t(No symbol) [0x00007FF7AFB1BEF9]\n\t(No symbol) [0x00007FF7AFB0CFF0]\n\t(No symbol) [0x00007FF7AFADA33B]\n\t(No symbol) [0x00007FF7AFADAED1]\n\tGetHandleVerifier [0x00007FF7AFF68B2D+3217341]\n\tGetHandleVerifier [0x00007FF7AFFB5AF3+3532675]\n\tGetHandleVerifier [0x00007FF7AFFAB0F0+3489152]\n\tGetHandleVerifier [0x00007FF7AFD0E786+750614]\n\t(No symbol) [0x00007FF7AFBE376F]\n\t(No symbol) [0x00007FF7AFBDEB24]\n\t(No symbol) [0x00007FF7AFBDECB2]\n\t(No symbol) [0x00007FF7AFBCE17F]\n\tBaseThreadInitThunk [0x00007FFABD07257D+29]\n\tRtlUserThreadStart [0x00007FFABE14AF28+40]\n",
     "output_type": "error",
     "traceback": [
      "\u001b[1;31m---------------------------------------------------------------------------\u001b[0m",
      "\u001b[1;31mWebDriverException\u001b[0m                        Traceback (most recent call last)",
      "Cell \u001b[1;32mIn[81], line 5\u001b[0m\n\u001b[0;32m      3\u001b[0m soup_data \u001b[38;5;241m=\u001b[39m soup\u001b[38;5;241m.\u001b[39mselect(\u001b[38;5;124m'\u001b[39m\u001b[38;5;124mdiv\u001b[39m\u001b[38;5;124m'\u001b[39m)\n\u001b[0;32m      4\u001b[0m soup_data\n\u001b[1;32m----> 5\u001b[0m \u001b[43mwd\u001b[49m\u001b[38;5;241;43m.\u001b[39;49m\u001b[43mclose\u001b[49m\u001b[43m(\u001b[49m\u001b[43m)\u001b[49m\n",
      "File \u001b[1;32mc:\\Users\\fkfma\\AppData\\Local\\Programs\\Python\\Python310\\lib\\site-packages\\selenium\\webdriver\\remote\\webdriver.py:458\u001b[0m, in \u001b[0;36mWebDriver.close\u001b[1;34m(self)\u001b[0m\n\u001b[0;32m    450\u001b[0m \u001b[38;5;28;01mdef\u001b[39;00m \u001b[38;5;21mclose\u001b[39m(\u001b[38;5;28mself\u001b[39m) \u001b[38;5;241m-\u001b[39m\u001b[38;5;241m>\u001b[39m \u001b[38;5;28;01mNone\u001b[39;00m:\n\u001b[0;32m    451\u001b[0m \u001b[38;5;250m    \u001b[39m\u001b[38;5;124;03m\"\"\"Closes the current window.\u001b[39;00m\n\u001b[0;32m    452\u001b[0m \n\u001b[0;32m    453\u001b[0m \u001b[38;5;124;03m    :Usage:\u001b[39;00m\n\u001b[1;32m   (...)\u001b[0m\n\u001b[0;32m    456\u001b[0m \u001b[38;5;124;03m            driver.close()\u001b[39;00m\n\u001b[0;32m    457\u001b[0m \u001b[38;5;124;03m    \"\"\"\u001b[39;00m\n\u001b[1;32m--> 458\u001b[0m     \u001b[38;5;28;43mself\u001b[39;49m\u001b[38;5;241;43m.\u001b[39;49m\u001b[43mexecute\u001b[49m\u001b[43m(\u001b[49m\u001b[43mCommand\u001b[49m\u001b[38;5;241;43m.\u001b[39;49m\u001b[43mCLOSE\u001b[49m\u001b[43m)\u001b[49m\n",
      "File \u001b[1;32mc:\\Users\\fkfma\\AppData\\Local\\Programs\\Python\\Python310\\lib\\site-packages\\selenium\\webdriver\\remote\\webdriver.py:347\u001b[0m, in \u001b[0;36mWebDriver.execute\u001b[1;34m(self, driver_command, params)\u001b[0m\n\u001b[0;32m    345\u001b[0m response \u001b[38;5;241m=\u001b[39m \u001b[38;5;28mself\u001b[39m\u001b[38;5;241m.\u001b[39mcommand_executor\u001b[38;5;241m.\u001b[39mexecute(driver_command, params)\n\u001b[0;32m    346\u001b[0m \u001b[38;5;28;01mif\u001b[39;00m response:\n\u001b[1;32m--> 347\u001b[0m     \u001b[38;5;28;43mself\u001b[39;49m\u001b[38;5;241;43m.\u001b[39;49m\u001b[43merror_handler\u001b[49m\u001b[38;5;241;43m.\u001b[39;49m\u001b[43mcheck_response\u001b[49m\u001b[43m(\u001b[49m\u001b[43mresponse\u001b[49m\u001b[43m)\u001b[49m\n\u001b[0;32m    348\u001b[0m     response[\u001b[38;5;124m\"\u001b[39m\u001b[38;5;124mvalue\u001b[39m\u001b[38;5;124m\"\u001b[39m] \u001b[38;5;241m=\u001b[39m \u001b[38;5;28mself\u001b[39m\u001b[38;5;241m.\u001b[39m_unwrap_value(response\u001b[38;5;241m.\u001b[39mget(\u001b[38;5;124m\"\u001b[39m\u001b[38;5;124mvalue\u001b[39m\u001b[38;5;124m\"\u001b[39m, \u001b[38;5;28;01mNone\u001b[39;00m))\n\u001b[0;32m    349\u001b[0m     \u001b[38;5;28;01mreturn\u001b[39;00m response\n",
      "File \u001b[1;32mc:\\Users\\fkfma\\AppData\\Local\\Programs\\Python\\Python310\\lib\\site-packages\\selenium\\webdriver\\remote\\errorhandler.py:229\u001b[0m, in \u001b[0;36mErrorHandler.check_response\u001b[1;34m(self, response)\u001b[0m\n\u001b[0;32m    227\u001b[0m         alert_text \u001b[38;5;241m=\u001b[39m value[\u001b[38;5;124m\"\u001b[39m\u001b[38;5;124malert\u001b[39m\u001b[38;5;124m\"\u001b[39m]\u001b[38;5;241m.\u001b[39mget(\u001b[38;5;124m\"\u001b[39m\u001b[38;5;124mtext\u001b[39m\u001b[38;5;124m\"\u001b[39m)\n\u001b[0;32m    228\u001b[0m     \u001b[38;5;28;01mraise\u001b[39;00m exception_class(message, screen, stacktrace, alert_text)  \u001b[38;5;66;03m# type: ignore[call-arg]  # mypy is not smart enough here\u001b[39;00m\n\u001b[1;32m--> 229\u001b[0m \u001b[38;5;28;01mraise\u001b[39;00m exception_class(message, screen, stacktrace)\n",
      "\u001b[1;31mWebDriverException\u001b[0m: Message: disconnected: not connected to DevTools\n  (failed to check if window was closed: disconnected: not connected to DevTools)\n  (Session info: chrome=126.0.6478.182)\nStacktrace:\n\tGetHandleVerifier [0x00007FF7AFC5EEB2+31554]\n\t(No symbol) [0x00007FF7AFBD7EE9]\n\t(No symbol) [0x00007FF7AFA9872A]\n\t(No symbol) [0x00007FF7AFA7E90F]\n\t(No symbol) [0x00007FF7AFA7F47F]\n\t(No symbol) [0x00007FF7AFA98D53]\n\t(No symbol) [0x00007FF7AFA6D47C]\n\t(No symbol) [0x00007FF7AFB1C4F7]\n\t(No symbol) [0x00007FF7AFB1BEF9]\n\t(No symbol) [0x00007FF7AFB0CFF0]\n\t(No symbol) [0x00007FF7AFADA33B]\n\t(No symbol) [0x00007FF7AFADAED1]\n\tGetHandleVerifier [0x00007FF7AFF68B2D+3217341]\n\tGetHandleVerifier [0x00007FF7AFFB5AF3+3532675]\n\tGetHandleVerifier [0x00007FF7AFFAB0F0+3489152]\n\tGetHandleVerifier [0x00007FF7AFD0E786+750614]\n\t(No symbol) [0x00007FF7AFBE376F]\n\t(No symbol) [0x00007FF7AFBDEB24]\n\t(No symbol) [0x00007FF7AFBDECB2]\n\t(No symbol) [0x00007FF7AFBCE17F]\n\tBaseThreadInitThunk [0x00007FFABD07257D+29]\n\tRtlUserThreadStart [0x00007FFABE14AF28+40]\n"
     ]
    }
   ],
   "source": [
    "html = wd.page_source\n",
    "soup = BeautifulSoup(html, 'html.parser')\n",
    "soup_data = soup.select('div')\n",
    "soup_data\n",
    "try:\n",
    "    wd.close()\n",
    "except:\n",
    "    pass"
   ]
  },
  {
   "cell_type": "code",
   "execution_count": 62,
   "metadata": {},
   "outputs": [],
   "source": [
    "url = 'https://pedia.watcha.com/ko-KR/contents/m5QqGMJ'\n",
    "page = requests.get(url)\n",
    "html = BeautifulSoup(page.text, 'html.parser')"
   ]
  },
  {
   "cell_type": "code",
   "execution_count": 59,
   "metadata": {},
   "outputs": [
    {
     "data": {
      "text/plain": [
       "[]"
      ]
     },
     "execution_count": 59,
     "metadata": {},
     "output_type": "execute_result"
    }
   ],
   "source": [
    "html.select('#content_credits > div > div.risud > div > div > ul > li:nth-child(4) > a > div.lw9wo.Nt12L > div.BDbsC > div.VS7s8.eWROw')"
   ]
  },
  {
   "cell_type": "code",
   "execution_count": 63,
   "metadata": {},
   "outputs": [
    {
     "data": {
      "text/plain": [
       "[]"
      ]
     },
     "execution_count": 63,
     "metadata": {},
     "output_type": "execute_result"
    }
   ],
   "source": [
    "html.select('#content_credits > div > div.risud > div > div > ul > li:nth-child(4) > a')\n",
    "# html.select('#content_credits > div > div.risud > div > div')"
   ]
  },
  {
   "cell_type": "code",
   "execution_count": 52,
   "metadata": {},
   "outputs": [
    {
     "name": "stdout",
     "output_type": "stream",
     "text": [
      "1111 영화시리즈책웹툰로그인회원가입\n",
      "1111 짱짱2018 · 액션 · 한국1시간 34분 · 청불감상 가능한 곳별점 그래프평균 2.5(736명)0.55평가하기2.5평균 별점(736명)보고싶어요코멘트코멘트코멘트 수정코멘트 삭제보는 중더보기더보기관심없어요중학생 시절 싸움으로 이름을 날렸던 ‘태풍’. 과거를 잊고 조용히 살고자 마음먹었으나 학교 일진들과 부딪히게 되면서 그의 다짐은 무너지고 만다. 한편, 일진 무리의 선두에 서서 이끄는 ‘상민’과 이를 뒤에서 조종하는 건달 ‘익준’. ‘상민’ 일당은 조폭 선배인 ‘익준’과 짜고 여학생들을 이용해 원조교제를 하려는 남자 손님들을 협박해 돈을 갈취한다. 학교 일진에 가입하지 않은 ‘태풍’은 상민 일당의 시비에 사사건건 부딪히게 되고, 둘은 일촉즉발의 상황에 놓이는데...출연/제작코멘트60+더보기갤러리이 작품이 담긴 컬렉션8비슷한 작품서비스 이용약관개인정보 처리방침회사 안내고객센터cs@watchapedia.co.kr, 02-515-9985제휴 및 대외 협력https://watcha.team/contact주식회사 왓챠대표 박태훈서울특별시 서초구 강남대로 343 신덕빌딩 3층사업자 등록 번호 211-88-66013© 2024 by WATCHA, Inc. All rights reserved.한국어\n",
      "1111 감상 가능한 곳\n",
      "1111 별점 그래프평균 2.5(736명)0.55평가하기2.5평균 별점(736명)보고싶어요코멘트코멘트코멘트 수정코멘트 삭제보는 중더보기더보기관심없어요중학생 시절 싸움으로 이름을 날렸던 ‘태풍’. 과거를 잊고 조용히 살고자 마음먹었으나 학교 일진들과 부딪히게 되면서 그의 다짐은 무너지고 만다. 한편, 일진 무리의 선두에 서서 이끄는 ‘상민’과 이를 뒤에서 조종하는 건달 ‘익준’. ‘상민’ 일당은 조폭 선배인 ‘익준’과 짜고 여학생들을 이용해 원조교제를 하려는 남자 손님들을 협박해 돈을 갈취한다. 학교 일진에 가입하지 않은 ‘태풍’은 상민 일당의 시비에 사사건건 부딪히게 되고, 둘은 일촉즉발의 상황에 놓이는데...\n",
      "1111 별점 그래프평균 2.5(736명)0.55\n",
      "1111 평가하기2.5평균 별점(736명)보고싶어요코멘트코멘트코멘트 수정코멘트 삭제보는 중더보기더보기관심없어요\n",
      "1111 중학생 시절 싸움으로 이름을 날렸던 ‘태풍’. 과거를 잊고 조용히 살고자 마음먹었으나 학교 일진들과 부딪히게 되면서 그의 다짐은 무너지고 만다. 한편, 일진 무리의 선두에 서서 이끄는 ‘상민’과 이를 뒤에서 조종하는 건달 ‘익준’. ‘상민’ 일당은 조폭 선배인 ‘익준’과 짜고 여학생들을 이용해 원조교제를 하려는 남자 손님들을 협박해 돈을 갈취한다. 학교 일진에 가입하지 않은 ‘태풍’은 상민 일당의 시비에 사사건건 부딪히게 되고, 둘은 일촉즉발의 상황에 놓이는데...\n",
      "1111 출연/제작코멘트60+더보기갤러리이 작품이 담긴 컬렉션8비슷한 작품\n",
      "1111 출연/제작\n",
      "1111 코멘트60+더보기\n",
      "1111 갤러리\n",
      "1111 이 작품이 담긴 컬렉션8\n",
      "1111 비슷한 작품\n",
      "1111 \n",
      "1111 서비스 이용약관개인정보 처리방침회사 안내고객센터cs@watchapedia.co.kr, 02-515-9985제휴 및 대외 협력https://watcha.team/contact주식회사 왓챠대표 박태훈서울특별시 서초구 강남대로 343 신덕빌딩 3층사업자 등록 번호 211-88-66013© 2024 by WATCHA, Inc. All rights reserved.한국어\n",
      "1111 서비스 이용약관개인정보 처리방침회사 안내고객센터cs@watchapedia.co.kr, 02-515-9985제휴 및 대외 협력https://watcha.team/contact주식회사 왓챠대표 박태훈서울특별시 서초구 강남대로 343 신덕빌딩 3층사업자 등록 번호 211-88-66013© 2024 by WATCHA, Inc. All rights reserved.한국어\n"
     ]
    }
   ],
   "source": [
    "for i in html.select('section'):\n",
    "    print(1111,i.text)"
   ]
  },
  {
   "cell_type": "code",
   "execution_count": 46,
   "metadata": {},
   "outputs": [
    {
     "data": {
      "text/plain": [
       "[]"
      ]
     },
     "execution_count": 46,
     "metadata": {},
     "output_type": "execute_result"
    }
   ],
   "source": [
    "html('#root > div.KrZlw > section > div > div.MGiY3 > div > div > div.JeeFJ.zRYDv > section > div.r6x6F > section.mpdfe.wEYbw > div.m6I4g > div > div.bunOX.QCY16')"
   ]
  },
  {
   "cell_type": "code",
   "execution_count": 32,
   "metadata": {},
   "outputs": [
    {
     "data": {
      "text/plain": [
       "[]"
      ]
     },
     "execution_count": 32,
     "metadata": {},
     "output_type": "execute_result"
    }
   ],
   "source": [
    "html.select('#content_credits > div > div.risud > div > div > ul > li:nth-child(1) > a > div.lw9wo.Nt12L > div.BDbsC > div.VS7s8.eWROw')"
   ]
  },
  {
   "cell_type": "code",
   "execution_count": null,
   "metadata": {},
   "outputs": [],
   "source": [
    "pd_movies = []\n",
    "\n",
    "url = 'https://namu.wiki/w/' \n",
    "\n",
    "for movie in tqdm(movies):\n",
    "    content = ''\n",
    "    synopsys = \"\"\n",
    "    evaluation = []\n",
    "    page = requests.get(url + movie)\n",
    "    html = BeautifulSoup(page.text, 'html.parser')\n",
    "    soup1 = html.select('#app div div div div') # 시놉시스\n",
    "\n",
    "    for s in soup1:\n",
    "        if s.text != '':\n",
    "            if '시놉시스[편집]' in s.text:\n",
    "                content = s.text\n",
    "                break\n",
    "    lst = content.split('[편집]')\n",
    "    for i, v in enumerate(lst):\n",
    "        if v[-4:] == '시놉시스':\n",
    "            synopsys = lst[i+1]\n",
    "            break\n",
    "\n",
    "    \n",
    "    if synopsys == '': # 영화를 못찾아서 시놉시스가 없는 경우는 해당 코드로\n",
    "        content = ''\n",
    "        synopsys = \"\"\n",
    "        page = requests.get(url + movie+'(영화)')\n",
    "        html = BeautifulSoup(page.text, 'html.parser')\n",
    "        soup1 = html.select('#app div div div div')\n",
    "\n",
    "        for s in soup1:\n",
    "            if s.text != '':\n",
    "                if '시놉시스[편집]' in s.text:\n",
    "                    content = s.text\n",
    "                    break\n",
    "        lst = content.split('[편집]')\n",
    "        for i, v in enumerate(lst):\n",
    "            if v[-4:] == '시놉시스':\n",
    "                synopsys = lst[i+1]\n",
    "                break\n",
    "        \n",
    "    for k, text in enumerate(soup1):\n",
    "        if '평가' in text.text:\n",
    "            for i, v in enumerate(soup1[k].select('a')):\n",
    "                try:\n",
    "                    if v.text != '':\n",
    "                        if ('/' in v.text) or ('%' in v.text):\n",
    "                            evaluation.append([soup1[k].select('a')[i-1].attrs['title'], v.text])\n",
    "                except:\n",
    "                    pass\n",
    "        if evaluation != []:\n",
    "            break\n",
    "    \n",
    "\n",
    "    if evaluation != []:\n",
    "        soup2 = html.select('#app div div div div .wiki-paragraph') # 테이블 형식 데이터 수집\n",
    "\n",
    "        st = 0\n",
    "        lst = []\n",
    "        for s in soup2[1:]: # 영화의 정보, 1은 총 데이터 묶음이므로 생략\n",
    "            if s.text != '':\n",
    "                if s.text == '장르':\n",
    "                    st = 1\n",
    "                elif (st == 1) and ('개요' in s.text):\n",
    "                    st = 0\n",
    "                    break\n",
    "                if st == 1:\n",
    "                    lst.append(s.text) # 영화 정보 담기\n",
    "                    if len(lst) > 70:\n",
    "                        break\n",
    "\n",
    "        if (lst != []) and (synopsys!=''):\n",
    "            lst.insert(0, '영화명')\n",
    "            lst.insert(1, movie)\n",
    "            lst.append('시놉시스')\n",
    "            lst.append(synopsys)\n",
    "            df = pd.DataFrame(lst)\n",
    "            df = pd.concat([df.iloc[::2].reset_index(drop=True), df.iloc[1::2].reset_index(drop=True)], axis=1)\n",
    "            df.columns = ['kind','content']\n",
    "            df.set_index(df.kind, inplace=True)\n",
    "            df = df.drop('kind', axis=1)\n",
    "            pd_movies.append([df, pd.DataFrame(evaluation)])"
   ]
  },
  {
   "cell_type": "code",
   "execution_count": null,
   "metadata": {},
   "outputs": [],
   "source": [
    "len(pd_movies)"
   ]
  },
  {
   "cell_type": "code",
   "execution_count": null,
   "metadata": {},
   "outputs": [],
   "source": [
    "content = ''\n",
    "synopsys = \"\"\n",
    "page = requests.get(url + '이매큘레이트')\n",
    "html = BeautifulSoup(page.text, 'html.parser')\n",
    "soup1 = html.select('#app div div div div') # 시놉시스\n",
    "\n",
    "for s in soup1:\n",
    "    if s.text != '':\n",
    "        if '시놉시스[편집]' in s.text:\n",
    "            content = s.text\n",
    "            break\n",
    "lst = content.split('[편집]')\n",
    "for i, v in enumerate(lst):\n",
    "    if v[-4:] == '시놉시스':\n",
    "        synopsys = lst[i+1]\n",
    "        break\n",
    "\n",
    "evaluation = []\n",
    "\n",
    "for k, text in enumerate(soup1):\n",
    "    if '평가' in text.text:\n",
    "        for i, v in enumerate(soup1[k].select('a')):\n",
    "            try:\n",
    "                if v.text != '':\n",
    "                    if ('/' in v.text) or ('%' in v.text):\n",
    "                        evaluation.append([soup1[k].select('a')[i-1].attrs['title'], v.text])\n",
    "            except:\n",
    "                pass\n",
    "    if evaluation != []:\n",
    "        break"
   ]
  },
  {
   "cell_type": "code",
   "execution_count": null,
   "metadata": {},
   "outputs": [],
   "source": [
    "'부활의 노래', 없음\n",
    "#  '이매큘레이트',\n",
    "#  '러브 라이즈 블리딩',\n",
    " '짱', (영화)\n",
    " '싸움의 기술 2', 년도...\n",
    " '아이윌 송', 없음\n",
    " '싸움의 기술', 시놉시스\n",
    "#  '깡패들',\n",
    " '전야', 연도\n",
    " '심장박동 조작극', 없음\n",
    "#  '비포 선셋',\n",
    " '사일런트 나잇', 없음\n",
    "#  '명탐정 코난: 100만 달러의 펜타그램',\n",
    " '그리고 바통은 넘겨졌다',\n",
    "#  '더 납작 엎드릴게요'"
   ]
  }
 ],
 "metadata": {
  "kernelspec": {
   "display_name": "Python 3",
   "language": "python",
   "name": "python3"
  },
  "language_info": {
   "codemirror_mode": {
    "name": "ipython",
    "version": 3
   },
   "file_extension": ".py",
   "mimetype": "text/x-python",
   "name": "python",
   "nbconvert_exporter": "python",
   "pygments_lexer": "ipython3",
   "version": "3.10.9"
  }
 },
 "nbformat": 4,
 "nbformat_minor": 2
}
