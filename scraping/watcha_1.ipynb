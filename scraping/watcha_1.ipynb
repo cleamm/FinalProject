{
 "cells": [
  {
   "cell_type": "markdown",
   "metadata": {},
   "source": [
    "# 왓챠피디아"
   ]
  },
  {
   "cell_type": "code",
   "execution_count": 54,
   "metadata": {},
   "outputs": [],
   "source": [
    "import requests\n",
    "from bs4 import BeautifulSoup\n",
    "import pandas as pd\n",
    "import re\n",
    "import numpy as np\n",
    "from tqdm import tqdm\n",
    "from selenium import webdriver\n",
    "import time\n",
    "wd = webdriver.Chrome()"
   ]
  },
  {
   "cell_type": "code",
   "execution_count": 41,
   "metadata": {},
   "outputs": [],
   "source": [
    "movies = pd.read_csv('../movies_not_19.csv')\n",
    "names = movies.영화명.tolist()\n",
    "data = []"
   ]
  },
  {
   "cell_type": "code",
   "execution_count": null,
   "metadata": {},
   "outputs": [],
   "source": [
    "# movie = '짱구'\n",
    "for movie in tqdm(names):\n",
    "    url = f'https://pedia.watcha.com/ko-KR/searches/movies?query={movie}'\n",
    "    wd.get(url)\n",
    "    time.sleep(1)\n",
    "    try: # 더보기 버튼이 사라질때까지\n",
    "        while(True):\n",
    "            wd.find_element('css selector','#root > div.KrZlw > section > section > section > section.JeeFJ.uTWyO > div > button > span').click()\n",
    "            time.sleep(1)\n",
    "    except:\n",
    "        html = wd.page_source\n",
    "        try: # 영화가 없으면 except로...\n",
    "            soup1 = BeautifulSoup(html, 'html.parser')\n",
    "            cnt = len(soup1.select('#root > div.KrZlw > section > section > section > section.JeeFJ.uTWyO ul a'))\n",
    "            \n",
    "            for i in range(cnt):\n",
    "                wd.find_element('css selector', f'#root > div.KrZlw > section > section > section > section.JeeFJ.uTWyO > ul > li:nth-child({i+1})').click()\n",
    "\n",
    "                movie_html = wd.page_source\n",
    "                soup2 = BeautifulSoup(movie_html, 'html.parser')\n",
    "                time.sleep(0.5)\n",
    "\n",
    "                movie_name = soup2.select('#root > div.KrZlw > section > div > div.MGiY3 > div > div > div.qQhq3 > div.JeeFJ.PB7oq > div h1')[0].text\n",
    "                genre_age = soup2.select('#root > div.KrZlw > section > div > div.MGiY3 > div > div > div.qQhq3 > div.JeeFJ.PB7oq > div div')\n",
    "                year = genre_age[1].text.split('·')[0].strip()\n",
    "                genre = genre_age[1].text.split('·')[1:]\n",
    "                time, age = genre_age[2].text.split('·')\n",
    "                grade = soup2.select('#root > div.KrZlw > section > div > div.MGiY3 > div > div > div.JeeFJ.zRYDv > section > div.r6x6F > section.mpdfe.wEYbw > div.m6I4g > div > div.bunOX.QCY16')[0].text\n",
    "                synopsys = soup2.select('#root > div.KrZlw > section > div > div.MGiY3 > div > div > div.JeeFJ.zRYDv > section > div.r6x6F > section.sefQN > p')[0].text\n",
    "                actor_list = soup2.select('#content_credits > div > div.risud > div > div > ul li')\n",
    "                actors = []\n",
    "                for actor in actor_list:\n",
    "                    actors.append(actor.text)\n",
    "                data.append(pd.DataFrame([movie_name, year, genre, time, age, grade, synopsys, actors]))\n",
    "                \n",
    "                wd.back() # 뒤로 가기\n",
    "                time.sleep(0.5)\n",
    "        except:\n",
    "            pass"
   ]
  },
  {
   "cell_type": "code",
   "execution_count": null,
   "metadata": {},
   "outputs": [],
   "source": [
    "html = wd.page_source\n",
    "try: # 영화가 없으면 except로...\n",
    "    soup1 = BeautifulSoup(html, 'html.parser')\n",
    "    cnt = len(soup1.select('#root > div.KrZlw > section > section > section > section.JeeFJ.uTWyO ul a'))\n",
    "    \n",
    "    for i in range(cnt):\n",
    "        wd.find_element('css selector', f'#root > div.KrZlw > section > section > section > section.JeeFJ.uTWyO > ul > li:nth-child({i+1})').click()\n",
    "\n",
    "        movie_html = wd.page_source\n",
    "        soup2 = BeautifulSoup(movie_html, 'html.parser')\n",
    "        time.sleep(0.5)\n",
    "\n",
    "        movie_name = soup2.select('#root > div.KrZlw > section > div > div.MGiY3 > div > div > div.qQhq3 > div.JeeFJ.PB7oq > div h1')[0].text\n",
    "        genre_age = soup2.select('#root > div.KrZlw > section > div > div.MGiY3 > div > div > div.qQhq3 > div.JeeFJ.PB7oq > div div')\n",
    "        year = genre_age[1].text.split('·')[0].strip()\n",
    "        genre = genre_age[1].text.split('·')[1:]\n",
    "        time, age = genre_age[2].text.split('·')\n",
    "        grade = soup2.select('#root > div.KrZlw > section > div > div.MGiY3 > div > div > div.JeeFJ.zRYDv > section > div.r6x6F > section.mpdfe.wEYbw > div.m6I4g > div > div.bunOX.QCY16')[0].text\n",
    "        synopsys = soup2.select('#root > div.KrZlw > section > div > div.MGiY3 > div > div > div.JeeFJ.zRYDv > section > div.r6x6F > section.sefQN > p')[0].text\n",
    "        actor_list = soup2.select('#content_credits > div > div.risud > div > div > ul li')\n",
    "        actors = []\n",
    "        for actor in actor_list:\n",
    "            actors.append(actor.text)\n",
    "        data.append(pd.DataFrame([movie_name, year, genre, time, age, grade, synopsys, actors]))\n",
    "        \n",
    "        wd.back() # 뒤로 가기\n",
    "        time.sleep(0.5)\n",
    "except:\n",
    "    pass"
   ]
  },
  {
   "cell_type": "code",
   "execution_count": 35,
   "metadata": {},
   "outputs": [],
   "source": [
    "# wd.back() # 뒤로가기"
   ]
  },
  {
   "cell_type": "code",
   "execution_count": null,
   "metadata": {},
   "outputs": [],
   "source": [
    "movie_name = soup2.select('#root > div.KrZlw > section > div > div.MGiY3 > div > div > div.qQhq3 > div.JeeFJ.PB7oq > div h1')[0].text\n",
    "print(movie_name)\n",
    "genre_age = soup2.select('#root > div.KrZlw > section > div > div.MGiY3 > div > div > div.qQhq3 > div.JeeFJ.PB7oq > div div')\n",
    "year = genre_age[1].text.split('·')[0].strip()\n",
    "genre = genre_age[1].text.split('·')[1:]\n",
    "time, age = genre_age[2].text.split('·')\n",
    "grade = soup2.select('#root > div.KrZlw > section > div > div.MGiY3 > div > div > div.JeeFJ.zRYDv > section > div.r6x6F > section.mpdfe.wEYbw > div.m6I4g > div > div.bunOX.QCY16')[0].text\n",
    "synopsys = soup2.select('#root > div.KrZlw > section > div > div.MGiY3 > div > div > div.JeeFJ.zRYDv > section > div.r6x6F > section.sefQN > p')[0].text\n",
    "actor_list = soup2.select('#content_credits > div > div.risud > div > div > ul li')\n",
    "actors = []\n",
    "for actor in actor_list:\n",
    "    actors.append(actor.text)"
   ]
  },
  {
   "cell_type": "code",
   "execution_count": null,
   "metadata": {},
   "outputs": [],
   "source": [
    "'부활의 노래',\n",
    " '2021',\n",
    " [' 애니메이션 ', ' 대만'],\n",
    " '1시간 13분 ',\n",
    " ' 전체',\n",
    " '1.0',\n",
    " '할아버지 수술을 위해 급하게 돈이 필요한 절의 청년 웨이. 부동산 개발업자로부터 더 많은 돈을 얻기 위해, 웨이는 마을 재개발에 반대하는 소녀 레이니와 팀을 이루어 절의 문화유산 지위를 신청한다. 전통 종교의식 공연부터 세계적인 노래와 춤 경연대회에 참가하며 절의 가치를 높이려던 둘의 노력으로 대중의 관심을 사로잡게 된다. 그러나 시간이 지나가면서 그들은 가족, 우정 그리고 사랑 사이에서 갈등하는 자신을 발견한다. [서울인디애니페스트2022]',\n",
    " ['춘수 수감독']"
   ]
  },
  {
   "cell_type": "code",
   "execution_count": 127,
   "metadata": {},
   "outputs": [
    {
     "data": {
      "text/plain": [
       "'1시간 13분 '"
      ]
     },
     "execution_count": 127,
     "metadata": {},
     "output_type": "execute_result"
    }
   ],
   "source": [
    "time, age = genre_age[2].text.split('·')\n",
    "time"
   ]
  },
  {
   "cell_type": "code",
   "execution_count": 129,
   "metadata": {},
   "outputs": [
    {
     "data": {
      "text/plain": [
       "('부활의 노래',\n",
       " '2021',\n",
       " [' 애니메이션 ', ' 대만'],\n",
       " '1시간 13분 ',\n",
       " ' 전체',\n",
       " '1.0',\n",
       " '할아버지 수술을 위해 급하게 돈이 필요한 절의 청년 웨이. 부동산 개발업자로부터 더 많은 돈을 얻기 위해, 웨이는 마을 재개발에 반대하는 소녀 레이니와 팀을 이루어 절의 문화유산 지위를 신청한다. 전통 종교의식 공연부터 세계적인 노래와 춤 경연대회에 참가하며 절의 가치를 높이려던 둘의 노력으로 대중의 관심을 사로잡게 된다. 그러나 시간이 지나가면서 그들은 가족, 우정 그리고 사랑 사이에서 갈등하는 자신을 발견한다. [서울인디애니페스트2022]',\n",
       " ['춘수 수감독'])"
      ]
     },
     "execution_count": 129,
     "metadata": {},
     "output_type": "execute_result"
    }
   ],
   "source": [
    "movie_name, year, genre, time, age, grade, synopsys, actors"
   ]
  },
  {
   "cell_type": "code",
   "execution_count": 45,
   "metadata": {},
   "outputs": [
    {
     "data": {
      "text/html": [
       "<div>\n",
       "<style scoped>\n",
       "    .dataframe tbody tr th:only-of-type {\n",
       "        vertical-align: middle;\n",
       "    }\n",
       "\n",
       "    .dataframe tbody tr th {\n",
       "        vertical-align: top;\n",
       "    }\n",
       "\n",
       "    .dataframe thead th {\n",
       "        text-align: right;\n",
       "    }\n",
       "</style>\n",
       "<table border=\"1\" class=\"dataframe\">\n",
       "  <thead>\n",
       "    <tr style=\"text-align: right;\">\n",
       "      <th></th>\n",
       "      <th>0</th>\n",
       "    </tr>\n",
       "  </thead>\n",
       "  <tbody>\n",
       "    <tr>\n",
       "      <th>0</th>\n",
       "      <td>부활의 노래</td>\n",
       "    </tr>\n",
       "    <tr>\n",
       "      <th>1</th>\n",
       "      <td>2021</td>\n",
       "    </tr>\n",
       "    <tr>\n",
       "      <th>2</th>\n",
       "      <td>[ 애니메이션 ,  대만]</td>\n",
       "    </tr>\n",
       "    <tr>\n",
       "      <th>3</th>\n",
       "      <td>1시간 13분</td>\n",
       "    </tr>\n",
       "    <tr>\n",
       "      <th>4</th>\n",
       "      <td>전체</td>\n",
       "    </tr>\n",
       "    <tr>\n",
       "      <th>5</th>\n",
       "      <td>1.0</td>\n",
       "    </tr>\n",
       "    <tr>\n",
       "      <th>6</th>\n",
       "      <td>할아버지 수술을 위해 급하게 돈이 필요한 절의 청년 웨이. 부동산 개발업자로부터 더...</td>\n",
       "    </tr>\n",
       "    <tr>\n",
       "      <th>7</th>\n",
       "      <td>[춘수 수감독]</td>\n",
       "    </tr>\n",
       "  </tbody>\n",
       "</table>\n",
       "</div>"
      ],
      "text/plain": [
       "                                                   0\n",
       "0                                             부활의 노래\n",
       "1                                               2021\n",
       "2                                     [ 애니메이션 ,  대만]\n",
       "3                                           1시간 13분 \n",
       "4                                                 전체\n",
       "5                                                1.0\n",
       "6  할아버지 수술을 위해 급하게 돈이 필요한 절의 청년 웨이. 부동산 개발업자로부터 더...\n",
       "7                                           [춘수 수감독]"
      ]
     },
     "execution_count": 45,
     "metadata": {},
     "output_type": "execute_result"
    }
   ],
   "source": [
    "pd.DataFrame(['부활의 노래',\n",
    " '2021',\n",
    " [' 애니메이션 ', ' 대만'],\n",
    " '1시간 13분 ',\n",
    " ' 전체',\n",
    " '1.0',\n",
    " '할아버지 수술을 위해 급하게 돈이 필요한 절의 청년 웨이. 부동산 개발업자로부터 더 많은 돈을 얻기 위해, 웨이는 마을 재개발에 반대하는 소녀 레이니와 팀을 이루어 절의 문화유산 지위를 신청한다. 전통 종교의식 공연부터 세계적인 노래와 춤 경연대회에 참가하며 절의 가치를 높이려던 둘의 노력으로 대중의 관심을 사로잡게 된다. 그러나 시간이 지나가면서 그들은 가족, 우정 그리고 사랑 사이에서 갈등하는 자신을 발견한다. [서울인디애니페스트2022]',\n",
    " ['춘수 수감독']])"
   ]
  },
  {
   "cell_type": "code",
   "execution_count": 4,
   "metadata": {},
   "outputs": [],
   "source": [
    "# wd.back() # 뒤로가기"
   ]
  },
  {
   "cell_type": "code",
   "execution_count": 11,
   "metadata": {},
   "outputs": [],
   "source": [
    "wd.find_element('css selector', '#root > div.KrZlw > section > section > section > section.JeeFJ.uTWyO > ul > li:nth-child(1)').click()"
   ]
  },
  {
   "cell_type": "code",
   "execution_count": 28,
   "metadata": {},
   "outputs": [],
   "source": [
    "url = 'https://pedia.watcha.com/ko-KR/contents/mdEmvRG'\n",
    "page = requests.get(url)\n",
    "html = BeautifulSoup(page.text, 'html.parser')"
   ]
  },
  {
   "cell_type": "code",
   "execution_count": 59,
   "metadata": {},
   "outputs": [
    {
     "data": {
      "text/plain": [
       "[]"
      ]
     },
     "execution_count": 59,
     "metadata": {},
     "output_type": "execute_result"
    }
   ],
   "source": [
    "html.select('#content_credits > div > div.risud > div > div > ul > li:nth-child(4) > a > div.lw9wo.Nt12L > div.BDbsC > div.VS7s8.eWROw')"
   ]
  },
  {
   "cell_type": "code",
   "execution_count": 63,
   "metadata": {},
   "outputs": [
    {
     "data": {
      "text/plain": [
       "[]"
      ]
     },
     "execution_count": 63,
     "metadata": {},
     "output_type": "execute_result"
    }
   ],
   "source": [
    "html.select('#content_credits > div > div.risud > div > div > ul > li:nth-child(4) > a')\n",
    "# html.select('#content_credits > div > div.risud > div > div')"
   ]
  },
  {
   "cell_type": "code",
   "execution_count": 52,
   "metadata": {},
   "outputs": [
    {
     "name": "stdout",
     "output_type": "stream",
     "text": [
      "1111 영화시리즈책웹툰로그인회원가입\n",
      "1111 짱짱2018 · 액션 · 한국1시간 34분 · 청불감상 가능한 곳별점 그래프평균 2.5(736명)0.55평가하기2.5평균 별점(736명)보고싶어요코멘트코멘트코멘트 수정코멘트 삭제보는 중더보기더보기관심없어요중학생 시절 싸움으로 이름을 날렸던 ‘태풍’. 과거를 잊고 조용히 살고자 마음먹었으나 학교 일진들과 부딪히게 되면서 그의 다짐은 무너지고 만다. 한편, 일진 무리의 선두에 서서 이끄는 ‘상민’과 이를 뒤에서 조종하는 건달 ‘익준’. ‘상민’ 일당은 조폭 선배인 ‘익준’과 짜고 여학생들을 이용해 원조교제를 하려는 남자 손님들을 협박해 돈을 갈취한다. 학교 일진에 가입하지 않은 ‘태풍’은 상민 일당의 시비에 사사건건 부딪히게 되고, 둘은 일촉즉발의 상황에 놓이는데...출연/제작코멘트60+더보기갤러리이 작품이 담긴 컬렉션8비슷한 작품서비스 이용약관개인정보 처리방침회사 안내고객센터cs@watchapedia.co.kr, 02-515-9985제휴 및 대외 협력https://watcha.team/contact주식회사 왓챠대표 박태훈서울특별시 서초구 강남대로 343 신덕빌딩 3층사업자 등록 번호 211-88-66013© 2024 by WATCHA, Inc. All rights reserved.한국어\n",
      "1111 감상 가능한 곳\n",
      "1111 별점 그래프평균 2.5(736명)0.55평가하기2.5평균 별점(736명)보고싶어요코멘트코멘트코멘트 수정코멘트 삭제보는 중더보기더보기관심없어요중학생 시절 싸움으로 이름을 날렸던 ‘태풍’. 과거를 잊고 조용히 살고자 마음먹었으나 학교 일진들과 부딪히게 되면서 그의 다짐은 무너지고 만다. 한편, 일진 무리의 선두에 서서 이끄는 ‘상민’과 이를 뒤에서 조종하는 건달 ‘익준’. ‘상민’ 일당은 조폭 선배인 ‘익준’과 짜고 여학생들을 이용해 원조교제를 하려는 남자 손님들을 협박해 돈을 갈취한다. 학교 일진에 가입하지 않은 ‘태풍’은 상민 일당의 시비에 사사건건 부딪히게 되고, 둘은 일촉즉발의 상황에 놓이는데...\n",
      "1111 별점 그래프평균 2.5(736명)0.55\n",
      "1111 평가하기2.5평균 별점(736명)보고싶어요코멘트코멘트코멘트 수정코멘트 삭제보는 중더보기더보기관심없어요\n",
      "1111 중학생 시절 싸움으로 이름을 날렸던 ‘태풍’. 과거를 잊고 조용히 살고자 마음먹었으나 학교 일진들과 부딪히게 되면서 그의 다짐은 무너지고 만다. 한편, 일진 무리의 선두에 서서 이끄는 ‘상민’과 이를 뒤에서 조종하는 건달 ‘익준’. ‘상민’ 일당은 조폭 선배인 ‘익준’과 짜고 여학생들을 이용해 원조교제를 하려는 남자 손님들을 협박해 돈을 갈취한다. 학교 일진에 가입하지 않은 ‘태풍’은 상민 일당의 시비에 사사건건 부딪히게 되고, 둘은 일촉즉발의 상황에 놓이는데...\n",
      "1111 출연/제작코멘트60+더보기갤러리이 작품이 담긴 컬렉션8비슷한 작품\n",
      "1111 출연/제작\n",
      "1111 코멘트60+더보기\n",
      "1111 갤러리\n",
      "1111 이 작품이 담긴 컬렉션8\n",
      "1111 비슷한 작품\n",
      "1111 \n",
      "1111 서비스 이용약관개인정보 처리방침회사 안내고객센터cs@watchapedia.co.kr, 02-515-9985제휴 및 대외 협력https://watcha.team/contact주식회사 왓챠대표 박태훈서울특별시 서초구 강남대로 343 신덕빌딩 3층사업자 등록 번호 211-88-66013© 2024 by WATCHA, Inc. All rights reserved.한국어\n",
      "1111 서비스 이용약관개인정보 처리방침회사 안내고객센터cs@watchapedia.co.kr, 02-515-9985제휴 및 대외 협력https://watcha.team/contact주식회사 왓챠대표 박태훈서울특별시 서초구 강남대로 343 신덕빌딩 3층사업자 등록 번호 211-88-66013© 2024 by WATCHA, Inc. All rights reserved.한국어\n"
     ]
    }
   ],
   "source": [
    "for i in html.select('section'):\n",
    "    print(1111,i.text)"
   ]
  }
 ],
 "metadata": {
  "kernelspec": {
   "display_name": "Python 3",
   "language": "python",
   "name": "python3"
  },
  "language_info": {
   "codemirror_mode": {
    "name": "ipython",
    "version": 3
   },
   "file_extension": ".py",
   "mimetype": "text/x-python",
   "name": "python",
   "nbconvert_exporter": "python",
   "pygments_lexer": "ipython3",
   "version": "3.10.9"
  }
 },
 "nbformat": 4,
 "nbformat_minor": 2
}
